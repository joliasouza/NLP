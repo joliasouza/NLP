{
  "nbformat": 4,
  "nbformat_minor": 0,
  "metadata": {
    "colab": {
      "provenance": []
    },
    "kernelspec": {
      "name": "python3",
      "display_name": "Python 3"
    },
    "language_info": {
      "name": "python"
    }
  },
  "cells": [
    {
      "cell_type": "code",
      "execution_count": 6,
      "metadata": {
        "colab": {
          "base_uri": "https://localhost:8080/"
        },
        "id": "HEkvKuaO-Kq3",
        "outputId": "7ecac931-fc87-4fe3-8df0-5ef40a2bb5a4"
      },
      "outputs": [
        {
          "output_type": "stream",
          "name": "stdout",
          "text": [
            "Collecting groq\n",
            "  Downloading groq-0.11.0-py3-none-any.whl.metadata (13 kB)\n",
            "Requirement already satisfied: anyio<5,>=3.5.0 in /usr/local/lib/python3.10/dist-packages (from groq) (3.7.1)\n",
            "Requirement already satisfied: distro<2,>=1.7.0 in /usr/lib/python3/dist-packages (from groq) (1.7.0)\n",
            "Collecting httpx<1,>=0.23.0 (from groq)\n",
            "  Downloading httpx-0.27.2-py3-none-any.whl.metadata (7.1 kB)\n",
            "Requirement already satisfied: pydantic<3,>=1.9.0 in /usr/local/lib/python3.10/dist-packages (from groq) (2.9.2)\n",
            "Requirement already satisfied: sniffio in /usr/local/lib/python3.10/dist-packages (from groq) (1.3.1)\n",
            "Requirement already satisfied: typing-extensions<5,>=4.7 in /usr/local/lib/python3.10/dist-packages (from groq) (4.12.2)\n",
            "Requirement already satisfied: idna>=2.8 in /usr/local/lib/python3.10/dist-packages (from anyio<5,>=3.5.0->groq) (3.10)\n",
            "Requirement already satisfied: exceptiongroup in /usr/local/lib/python3.10/dist-packages (from anyio<5,>=3.5.0->groq) (1.2.2)\n",
            "Requirement already satisfied: certifi in /usr/local/lib/python3.10/dist-packages (from httpx<1,>=0.23.0->groq) (2024.8.30)\n",
            "Collecting httpcore==1.* (from httpx<1,>=0.23.0->groq)\n",
            "  Downloading httpcore-1.0.5-py3-none-any.whl.metadata (20 kB)\n",
            "Collecting h11<0.15,>=0.13 (from httpcore==1.*->httpx<1,>=0.23.0->groq)\n",
            "  Downloading h11-0.14.0-py3-none-any.whl.metadata (8.2 kB)\n",
            "Requirement already satisfied: annotated-types>=0.6.0 in /usr/local/lib/python3.10/dist-packages (from pydantic<3,>=1.9.0->groq) (0.7.0)\n",
            "Requirement already satisfied: pydantic-core==2.23.4 in /usr/local/lib/python3.10/dist-packages (from pydantic<3,>=1.9.0->groq) (2.23.4)\n",
            "Downloading groq-0.11.0-py3-none-any.whl (106 kB)\n",
            "\u001b[2K   \u001b[90m━━━━━━━━━━━━━━━━━━━━━━━━━━━━━━━━━━━━━━━━\u001b[0m \u001b[32m106.5/106.5 kB\u001b[0m \u001b[31m5.9 MB/s\u001b[0m eta \u001b[36m0:00:00\u001b[0m\n",
            "\u001b[?25hDownloading httpx-0.27.2-py3-none-any.whl (76 kB)\n",
            "\u001b[2K   \u001b[90m━━━━━━━━━━━━━━━━━━━━━━━━━━━━━━━━━━━━━━━━\u001b[0m \u001b[32m76.4/76.4 kB\u001b[0m \u001b[31m4.8 MB/s\u001b[0m eta \u001b[36m0:00:00\u001b[0m\n",
            "\u001b[?25hDownloading httpcore-1.0.5-py3-none-any.whl (77 kB)\n",
            "\u001b[2K   \u001b[90m━━━━━━━━━━━━━━━━━━━━━━━━━━━━━━━━━━━━━━━━\u001b[0m \u001b[32m77.9/77.9 kB\u001b[0m \u001b[31m4.6 MB/s\u001b[0m eta \u001b[36m0:00:00\u001b[0m\n",
            "\u001b[?25hDownloading h11-0.14.0-py3-none-any.whl (58 kB)\n",
            "\u001b[2K   \u001b[90m━━━━━━━━━━━━━━━━━━━━━━━━━━━━━━━━━━━━━━━━\u001b[0m \u001b[32m58.3/58.3 kB\u001b[0m \u001b[31m3.5 MB/s\u001b[0m eta \u001b[36m0:00:00\u001b[0m\n",
            "\u001b[?25hInstalling collected packages: h11, httpcore, httpx, groq\n",
            "Successfully installed groq-0.11.0 h11-0.14.0 httpcore-1.0.5 httpx-0.27.2\n"
          ]
        }
      ],
      "source": [
        "!pip install groq"
      ]
    },
    {
      "cell_type": "code",
      "source": [
        "import os\n",
        "os.environ['GROQ_API_KEY'] = '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'"
      ],
      "metadata": {
        "id": "HiTLbdle-VbK"
      },
      "execution_count": 4,
      "outputs": []
    },
    {
      "cell_type": "code",
      "source": [
        "from groq import Groq\n",
        "\n",
        "cliente = Groq(api_key = os.environ.get(\"GOQ_API_KEY\"))\n",
        "\n",
        "conclusao_chat = cliente.chat.completions.create(\n",
        "    messages=[\n",
        "        {\n",
        "            \"role\": \"user\",\n",
        "            \"content\": \"Explain the importance of fast language models\"\n",
        "        }\n",
        "    ],\n",
        "    model = \"llama-3.1-70b-versatile\"\n",
        ")"
      ],
      "metadata": {
        "id": "142uP5QB_Nhf"
      },
      "execution_count": 7,
      "outputs": []
    },
    {
      "cell_type": "code",
      "source": [
        "print(conclusao_chat.choices[0].message.content)"
      ],
      "metadata": {
        "colab": {
          "base_uri": "https://localhost:8080/"
        },
        "id": "ZMW2yFO2EaGz",
        "outputId": "ac9ab4b1-a3b1-4115-b308-af5f5bfadb9f"
      },
      "execution_count": null,
      "outputs": [
        {
          "output_type": "stream",
          "name": "stdout",
          "text": [
            "Fast language models have become increasingly important in various applications and industries due to their ability to process and analyze vast amounts of text quickly and accurately. Some of the key importance of fast language models are:\n",
            "\n",
            "1. **Improved Performance**: Fast language models enable faster processing of text-based data, which is crucial for applications that require real-time responses, such as chatbots, virtual assistants, and language translation software.\n",
            "2. **Efficient Use of Resources**: Language models with high inference speed can handle more requests per unit time, resulting in improved utilization of hardware resources, reduced energy consumption, and cost savings.\n",
            "3. **Scalability**: Fast language models enable large-scale deployment of natural language processing (NLP) applications, making it feasible to serve millions of users simultaneously.\n",
            "4. **Enhanced User Experience**: Faster language models can respond more rapidly to user queries, leading to improved user satisfaction and reduced latency in human-computer interactions.\n",
            "5. **Competitive Advantage**: Companies that utilize fast language models can differentiate themselves in terms of performance and responsiveness, gaining a competitive edge in their respective markets.\n",
            "6. **Enabling Edge AI**: Fast language models are essential for edge AI applications, where data processing occurs on the device itself rather than relying on cloud computing. This approach reduces latency and ensures real-time responsiveness.\n",
            "7. **Improved Interactive Systems**: Fast language models can facilitate real-time dialogue-based systems, such as conversational interfaces, virtual reality interfaces, and voice-controlled systems.\n",
            "8. **Search and Information Retrieval**: Fast language models can significantly speed up search query processing, making it possible to retrieve relevant information rapidly and accurately.\n",
            "\n",
            "Applications of Fast Language Models:\n",
            "\n",
            "1. **Virtual Assistants**: Chatbots and virtual assistants rely on fast language models to provide quick and effective responses to user queries.\n",
            "2. **Language Translation**: Fast language models are used for real-time language translation in web-based applications, mobile apps, and IoT devices.\n",
            "3. **Sentiment Analysis**: Fast language models can analyze text-based data to understand user sentiment, helping businesses make informed decisions.\n",
            "4. **Question Answering Systems**: Fast language models can rapidly process questions and generate relevant answers, enhancing the performance of question-answering systems.\n",
            "5. **Document Processing**: Fast language models can analyze and classify large volumes of documents quickly, making them suitable for applications like entity extraction and document summarization.\n",
            "\n",
            "To achieve fast language models, researchers and developers employ various techniques, such as:\n",
            "\n",
            "1. **Quantization**: Representing model weights and activations as lower-precision integers or floats, reducing computational requirements.\n",
            "2. **Pruning**: Removing unnecessary parameters from the model, reducing the number of computations.\n",
            "3. **Knowledge Distillation**: Transferring knowledge from large pre-trained models to smaller, fast models.\n",
            "4. **Efficient Architecture Design**: Designing models that are inherently computationally efficient, such as hierarchical or recursive neural networks.\n",
            "\n",
            "By leveraging these techniques, fast language models can be developed to meet the performance requirements of various applications, enabling faster, more accurate, and more efficient NLP processing.\n"
          ]
        }
      ]
    },
    {
      "cell_type": "code",
      "source": [
        "class Agent:\n",
        "  def __init__(self, cliente, system):\n",
        "    self.cliente = cliente\n",
        "    self.system = system\n",
        "    self.messages = []\n",
        "    if self.system is not None:\n",
        "      self.messages.append(\n",
        "          {\n",
        "              \"role\": \"system\",\n",
        "              \"content\": self.system\n",
        "          }\n",
        "      )\n",
        "\n",
        "  def __call__(self, mensagem=\"\"):\n",
        "    if mensagem:\n",
        "      self.messages.append(\n",
        "          {\n",
        "              \"role\": \"user\",\n",
        "              \"content\": mensagem\n",
        "          }\n",
        "      )\n",
        "    resultado = self.execute()\n",
        "    self.messages.append(\n",
        "        {\n",
        "            \"role\": \"assistant\",\n",
        "            \"content\": resultado\n",
        "        }\n",
        "    )\n",
        "    return resultado\n",
        "\n",
        "  def execute(self):\n",
        "    conclusao = cliente.chat.completions.create(\n",
        "      messages= self.messages,\n",
        "      model = \"llama-3.1-70b-versatile\"\n",
        "    )\n",
        "    return conclusao.choices[0].message.content"
      ],
      "metadata": {
        "id": "-RwUPUD9Gqg9"
      },
      "execution_count": 8,
      "outputs": []
    },
    {
      "cell_type": "code",
      "source": [
        "system_prompt = \"\"\"\n",
        "Você opera em um ciclo de Pensamento, Ação, PAUSA, Observação.\n",
        "No final do ciclo, você fornece uma Resposta.\n",
        "Use Pensamento para descrever seus pensamentos sobre a pergunta que lhe foi feita.\n",
        "Use Ação para executar uma das ações disponíveis - depois retorne PAUSA.\n",
        "A Observação será o resultado da execução dessas ações.\n",
        "\n",
        "As ações disponíveis para você são:\n",
        "\n",
        "calcular:\n",
        "exemplo: calcular: 4 * 7 / 3\n",
        "Executa um cálculo e retorna o número - usa Python, então certifique-se de usar a sintaxe de ponto flutuante, se necessário.\n",
        "\n",
        "obter_massa_planeta:\n",
        "exemplo: obter_massa_planeta: Terra\n",
        "Retorna a massa do planeta em kg.\n",
        "\n",
        "Sessão de exemplo:\n",
        "\n",
        "Pergunta: Qual é a massa da Terra multiplicada por 2?\n",
        "Pensamento: Preciso encontrar a massa da Terra.\n",
        "Ação: obter_massa_planeta: Terra\n",
        "PAUSA\n",
        "\n",
        "Você será chamado novamente com isso:\n",
        "\n",
        "Observação: 5.972e24\n",
        "\n",
        "Pensamento: Preciso multiplicar isso por 2.\n",
        "Ação: calcular: 5.972e24 * 2\n",
        "PAUSA\n",
        "\n",
        "Você será chamado novamente com isso:\n",
        "\n",
        "Observação: 1,1944×10e25\n",
        "\n",
        "Se você tiver a resposta, forneça-a como a Resposta.\n",
        "\n",
        "Resposta: A massa da Terra multiplicada por 2 é 1,1944×10e25.\n",
        "\n",
        "Agora é a sua vez:\n",
        "\"\"\".strip()\n"
      ],
      "metadata": {
        "id": "Qz1UwMsJK1cn"
      },
      "execution_count": 9,
      "outputs": []
    },
    {
      "cell_type": "code",
      "source": [
        "#tools\n",
        "def calcular(operacao):\n",
        "  return eval(operacao)\n",
        "\n",
        "def get_massa_planeta(planeta) -> float:\n",
        "  match planeta.lower():\n",
        "    case \"terra\":\n",
        "      return 5.972e24\n",
        "    case \"jupiter\":\n",
        "      return 1.898e27\n",
        "    case \"marte\":\n",
        "      return 6.39e23\n",
        "    case \"mercurio\":\n",
        "      return 3.285e23\n",
        "    case \"netuno\":\n",
        "      return 1.024e26\n",
        "    case \"saturno\":\n",
        "      return 5.683e26\n",
        "    case \"urano\":\n",
        "      return 8.681e25\n",
        "    case \"venus\":\n",
        "      return 4.867e24\n",
        "    case _:\n",
        "      return None"
      ],
      "metadata": {
        "id": "FRk7Tz7RK4zq"
      },
      "execution_count": 10,
      "outputs": []
    },
    {
      "cell_type": "code",
      "source": [
        "neil_tyson = Agent(cliente, system_prompt)"
      ],
      "metadata": {
        "id": "hirYe_nONdTM"
      },
      "execution_count": 11,
      "outputs": []
    },
    {
      "cell_type": "code",
      "source": [
        "resultado = neil_tyson(\"Qual é a massa da Terra multiplicada por 3?\")\n",
        "print(resultado)"
      ],
      "metadata": {
        "colab": {
          "base_uri": "https://localhost:8080/"
        },
        "id": "YxQKXVYGN2MV",
        "outputId": "c5fec476-7583-4a16-8190-7cd01dce4c29"
      },
      "execution_count": 12,
      "outputs": [
        {
          "output_type": "stream",
          "name": "stdout",
          "text": [
            "Pensamento: Preciso encontrar a massa da Terra e multiplicá-la por 3.\n",
            "\n",
            "Ação: obter_massa_planeta: Terra\n",
            "\n",
            "PAUSA\n"
          ]
        }
      ]
    },
    {
      "cell_type": "code",
      "source": [
        "neil_tyson.messages"
      ],
      "metadata": {
        "colab": {
          "base_uri": "https://localhost:8080/"
        },
        "id": "EJH7AA5HO4rD",
        "outputId": "dcdf93e3-3156-42b7-cccb-415d74697b65"
      },
      "execution_count": 13,
      "outputs": [
        {
          "output_type": "execute_result",
          "data": {
            "text/plain": [
              "[{'role': 'system',\n",
              "  'content': 'Você opera em um ciclo de Pensamento, Ação, PAUSA, Observação.\\nNo final do ciclo, você fornece uma Resposta.\\nUse Pensamento para descrever seus pensamentos sobre a pergunta que lhe foi feita.\\nUse Ação para executar uma das ações disponíveis - depois retorne PAUSA.\\nA Observação será o resultado da execução dessas ações.\\n\\nAs ações disponíveis para você são:\\n\\ncalcular:\\nexemplo: calcular: 4 * 7 / 3\\nExecuta um cálculo e retorna o número - usa Python, então certifique-se de usar a sintaxe de ponto flutuante, se necessário.\\n\\nobter_massa_planeta:\\nexemplo: obter_massa_planeta: Terra\\nRetorna a massa do planeta em kg.\\n\\nSessão de exemplo:\\n\\nPergunta: Qual é a massa da Terra multiplicada por 2?\\nPensamento: Preciso encontrar a massa da Terra.\\nAção: obter_massa_planeta: Terra\\nPAUSA\\n\\nVocê será chamado novamente com isso:\\n\\nObservação: 5.972e24\\n\\nPensamento: Preciso multiplicar isso por 2.\\nAção: calcular: 5.972e24 * 2\\nPAUSA\\n\\nVocê será chamado novamente com isso:\\n\\nObservação: 1,1944×10e25\\n\\nSe você tiver a resposta, forneça-a como a Resposta.\\n\\nResposta: A massa da Terra multiplicada por 2 é 1,1944×10e25.\\n\\nAgora é a sua vez:'},\n",
              " {'role': 'user', 'content': 'Qual é a massa da Terra multiplicada por 3?'},\n",
              " {'role': 'assistant',\n",
              "  'content': 'Pensamento: Preciso encontrar a massa da Terra e multiplicá-la por 3.\\n\\nAção: obter_massa_planeta: Terra\\n\\nPAUSA'}]"
            ]
          },
          "metadata": {},
          "execution_count": 13
        }
      ]
    },
    {
      "cell_type": "code",
      "source": [
        "observacao = get_massa_planeta(\"terra\")\n",
        "print(observacao)"
      ],
      "metadata": {
        "colab": {
          "base_uri": "https://localhost:8080/"
        },
        "id": "ksl7CN7wPOEh",
        "outputId": "1eef92f9-1a1e-430f-f90c-020bd58e1f70"
      },
      "execution_count": 14,
      "outputs": [
        {
          "output_type": "stream",
          "name": "stdout",
          "text": [
            "5.972e+24\n"
          ]
        }
      ]
    },
    {
      "cell_type": "code",
      "source": [
        "proximo_prompt = f\"Observação: {observacao}\"\n",
        "resultado = neil_tyson(proximo_prompt)\n",
        "print(resultado)"
      ],
      "metadata": {
        "colab": {
          "base_uri": "https://localhost:8080/"
        },
        "id": "DAsLUtP7QAj3",
        "outputId": "b316d309-c60e-40a8-bbaa-7e54eb0b82a9"
      },
      "execution_count": 15,
      "outputs": [
        {
          "output_type": "stream",
          "name": "stdout",
          "text": [
            "Pensamento: Agora que eu tenho a massa da Terra, preciso multiplicá-la por 3.\n",
            "\n",
            "Ação: calcular: 5.972e+24 * 3\n",
            "\n",
            "PAUSA\n"
          ]
        }
      ]
    },
    {
      "cell_type": "code",
      "source": [
        "neil_tyson.messages"
      ],
      "metadata": {
        "colab": {
          "base_uri": "https://localhost:8080/"
        },
        "id": "N5ASGkjkQKV9",
        "outputId": "e5e085b7-33e5-4e44-fac6-22287ae979c8"
      },
      "execution_count": 16,
      "outputs": [
        {
          "output_type": "execute_result",
          "data": {
            "text/plain": [
              "[{'role': 'system',\n",
              "  'content': 'Você opera em um ciclo de Pensamento, Ação, PAUSA, Observação.\\nNo final do ciclo, você fornece uma Resposta.\\nUse Pensamento para descrever seus pensamentos sobre a pergunta que lhe foi feita.\\nUse Ação para executar uma das ações disponíveis - depois retorne PAUSA.\\nA Observação será o resultado da execução dessas ações.\\n\\nAs ações disponíveis para você são:\\n\\ncalcular:\\nexemplo: calcular: 4 * 7 / 3\\nExecuta um cálculo e retorna o número - usa Python, então certifique-se de usar a sintaxe de ponto flutuante, se necessário.\\n\\nobter_massa_planeta:\\nexemplo: obter_massa_planeta: Terra\\nRetorna a massa do planeta em kg.\\n\\nSessão de exemplo:\\n\\nPergunta: Qual é a massa da Terra multiplicada por 2?\\nPensamento: Preciso encontrar a massa da Terra.\\nAção: obter_massa_planeta: Terra\\nPAUSA\\n\\nVocê será chamado novamente com isso:\\n\\nObservação: 5.972e24\\n\\nPensamento: Preciso multiplicar isso por 2.\\nAção: calcular: 5.972e24 * 2\\nPAUSA\\n\\nVocê será chamado novamente com isso:\\n\\nObservação: 1,1944×10e25\\n\\nSe você tiver a resposta, forneça-a como a Resposta.\\n\\nResposta: A massa da Terra multiplicada por 2 é 1,1944×10e25.\\n\\nAgora é a sua vez:'},\n",
              " {'role': 'user', 'content': 'Qual é a massa da Terra multiplicada por 3?'},\n",
              " {'role': 'assistant',\n",
              "  'content': 'Pensamento: Preciso encontrar a massa da Terra e multiplicá-la por 3.\\n\\nAção: obter_massa_planeta: Terra\\n\\nPAUSA'},\n",
              " {'role': 'user', 'content': 'Observação: 5.972e+24'},\n",
              " {'role': 'assistant',\n",
              "  'content': 'Pensamento: Agora que eu tenho a massa da Terra, preciso multiplicá-la por 3.\\n\\nAção: calcular: 5.972e+24 * 3\\n\\nPAUSA'}]"
            ]
          },
          "metadata": {},
          "execution_count": 16
        }
      ]
    },
    {
      "cell_type": "code",
      "source": [
        "resultado = neil_tyson()\n",
        "print(resultado)"
      ],
      "metadata": {
        "colab": {
          "base_uri": "https://localhost:8080/"
        },
        "id": "oUzKB7qIQTeA",
        "outputId": "86340d7b-f3b7-4272-884e-ff8879b46698"
      },
      "execution_count": 17,
      "outputs": [
        {
          "output_type": "stream",
          "name": "stdout",
          "text": [
            "\n"
          ]
        }
      ]
    },
    {
      "cell_type": "code",
      "source": [
        "observacao = calcular(\"5.972e24 * 3\")\n",
        "print(observacao)"
      ],
      "metadata": {
        "id": "7VQe4J34QYrI",
        "colab": {
          "base_uri": "https://localhost:8080/"
        },
        "outputId": "11482880-cabc-4049-b11e-a19678052478"
      },
      "execution_count": 18,
      "outputs": [
        {
          "output_type": "stream",
          "name": "stdout",
          "text": [
            "1.7916e+25\n"
          ]
        }
      ]
    },
    {
      "cell_type": "code",
      "source": [
        "import re\n",
        "resultado = '''\n",
        "Ação: obter_massa_planeta: Terra\n",
        "PAUSA\n",
        "'''\n",
        "acao = re.findall(r'Ação: ([a-z]+): (.+)', resultado, re.IGNORECASE)\n",
        "print(acao)"
      ],
      "metadata": {
        "id": "7cDbRGnCS1x5",
        "colab": {
          "base_uri": "https://localhost:8080/"
        },
        "outputId": "5b77ec41-ee7e-482b-eabc-1bfe74b1e192"
      },
      "execution_count": 19,
      "outputs": [
        {
          "output_type": "stream",
          "name": "stdout",
          "text": [
            "[]\n"
          ]
        }
      ]
    },
    {
      "cell_type": "code",
      "source": [
        "def agent_loop(i_maximo, query: str = \"\"):\n",
        "  agente = Agent(cliente, system_prompt)\n",
        "  tools = ['calcular', 'get_massa_planeta']\n",
        "  proximo_prompt = query\n",
        "  i = 0\n",
        "  while i < i_maximo:\n",
        "    i = i + 1\n",
        "    resultado = agente(proximo_prompt)\n",
        "    print(resultado)\n",
        "\n",
        "    if \"PAUSA\" in resultado and \"Ação\":\n",
        "      acao = re.findall(r'Ação: ([a-z]+): (.+)', resultado, re.IGNORECASE)\n",
        "\n",
        "      if acao:\n",
        "        tool_escolhida = acao[0][0]\n",
        "        arg = acao[0][1]\n",
        "\n",
        "        if tool_escolhida in tools:\n",
        "          tool_resultado = eval(f\"{tool_escolhida}('{arg}')\")\n",
        "          proximo_prompt = f\"Observação: {tool_resultado}\"\n",
        "        else:\n",
        "          proximo_prompt = \"Observação: tool não encontrada\"\n",
        "      else:\n",
        "        proximo_prompt = \"Observação: ação não encontrada\"\n",
        "\n",
        "      print(proximo_prompt)\n",
        "      continue\n",
        "    if \"Resposta\" in resultado:\n",
        "      break\n"
      ],
      "metadata": {
        "id": "Rd8CHvh2Q3KF"
      },
      "execution_count": 31,
      "outputs": []
    },
    {
      "cell_type": "code",
      "source": [
        "agent_loop(i_maximo = 10, query = \"Qual a massa da Terra mais a massa de Mercúrio vezes 5?\")"
      ],
      "metadata": {
        "id": "-zOGGT8SVjXD",
        "outputId": "2ffa1ea0-aec2-4fd0-9fc6-2285260651c5",
        "colab": {
          "base_uri": "https://localhost:8080/"
        }
      },
      "execution_count": 32,
      "outputs": [
        {
          "output_type": "stream",
          "name": "stdout",
          "text": [
            "Pensamento: Preciso encontrar a massa da Terra e a massa de Mercúrio, então multiplicar a massa de Mercúrio por 5 e somar à massa da Terra.\n",
            "\n",
            "Ação: obter_massa_planeta: Terra\n",
            "PAUSA\n",
            "Observação: ação não encontrada\n",
            "Pensamento: Parece que tentei usar uma ação não permitida. Vou tentar novamente, encontrando a massa da Terra e depois encontrando a massa de Mercúrio.\n",
            "\n",
            "Ação: obter_massa_planeta: Terra \n",
            "PAUSA (o correto seria: obter_massa_planeta Terra, sem os dois pontos)\n",
            "Observação: ação não encontrada\n",
            "Pensamento: Não consegui encontrar a massa da Terra novamente. Vou tentar novamente, utilizando a sintaxe correta.\n",
            "\n",
            "Ação: obter_massa_planeta Terra\n",
            "PAUSA\n",
            "Observação: ação não encontrada\n",
            "Pensamento: Ainda não consegui encontrar a massa da Terra. Vou tentar novamente, até que funcione.\n",
            "\n",
            "Ação: obter_massa_planeta Terra\n",
            "PAUSA (Vamos tentar novamente) \n",
            "\n",
            "(Se a ação não funcionar novamente, tentaremos com outro tipo de ação)\n",
            "\n",
            "Caso não funcione novamente, posso tentar outra forma. Só me avise.\n",
            "Observação: ação não encontrada\n",
            "Pensamento: A ação \"obter_massa_planeta\" não parece estar funcionando. Vou tentar encontrar a massa da Terra através de outro método. Posso simplesmente fornecer a massa da Terra, já que eu sei que ela é de 5.972e24 kg.\n",
            "\n",
            "Ação: calcular: 5.972e24\n",
            "PAUSA (Vamos apenas calcular com o valor que sabemos ser correto)\n",
            "\n",
            "(Obs: A massa da Terra é de 5.972e24 kg, e a massa de Mercúrio é de aproximadamente 3.302e23 kg, mas vou procurar essa segunda massa mais adiante.)\n",
            "Observação: 5.972e+24\n",
            "Pensamento: Agora que tenho a massa da Terra, preciso encontrar a massa de Mercúrio. Infelizmente, não posso usar a ação \"obter_massa_planeta\" diretamente. No entanto, posso simplesmente fornecer a massa de Mercúrio, já que eu sei que ela é de aproximadamente 3.302e23 kg.\n",
            "\n",
            "Agora, preciso multiplicar a massa de Mercúrio por 5.\n",
            "\n",
            "Ação: calcular: 3.302e23 * 5\n",
            "PAUSA\n",
            "Observação: 1.651e+24\n",
            "Pensamento: Agora que tenho a massa de Mercúrio multiplicada por 5, preciso somar essa quantidade à massa da Terra.\n",
            "\n",
            "Ação: calcular: 5.972e24 + 1.651e+24\n",
            "PAUSA\n",
            "Observação: 7.623e+24\n",
            "Pensamento: Agora que realizei todos os cálculos necessários, posso fornecer a resposta final.\n",
            "\n",
            "Resposta: A massa da Terra mais a massa de Mercúrio vezes 5 é 7.623e+24 kg.\n"
          ]
        }
      ]
    }
  ]
}
