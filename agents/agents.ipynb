{
  "cells": [
    {
      "cell_type": "code",
      "execution_count": null,
      "metadata": {},
      "outputs": [
        {
          "name": "stdout",
          "output_type": "stream",
          "text": [
            "Collecting groq\n",
            "  Downloading groq-0.11.0-py3-none-any.whl.metadata (13 kB)\n",
            "Requirement already satisfied: anyio<5,>=3.5.0 in /usr/local/lib/python3.10/dist-packages (from groq) (3.7.1)\n",
            "Requirement already satisfied: distro<2,>=1.7.0 in /usr/lib/python3/dist-packages (from groq) (1.7.0)\n",
            "Collecting httpx<1,>=0.23.0 (from groq)\n",
            "  Downloading httpx-0.27.2-py3-none-any.whl.metadata (7.1 kB)\n",
            "Requirement already satisfied: pydantic<3,>=1.9.0 in /usr/local/lib/python3.10/dist-packages (from groq) (2.9.2)\n",
            "Requirement already satisfied: sniffio in /usr/local/lib/python3.10/dist-packages (from groq) (1.3.1)\n",
            "Requirement already satisfied: typing-extensions<5,>=4.7 in /usr/local/lib/python3.10/dist-packages (from groq) (4.12.2)\n",
            "Requirement already satisfied: idna>=2.8 in /usr/local/lib/python3.10/dist-packages (from anyio<5,>=3.5.0->groq) (3.10)\n",
            "Requirement already satisfied: exceptiongroup in /usr/local/lib/python3.10/dist-packages (from anyio<5,>=3.5.0->groq) (1.2.2)\n",
            "Requirement already satisfied: certifi in /usr/local/lib/python3.10/dist-packages (from httpx<1,>=0.23.0->groq) (2024.8.30)\n",
            "Collecting httpcore==1.* (from httpx<1,>=0.23.0->groq)\n",
            "  Downloading httpcore-1.0.6-py3-none-any.whl.metadata (21 kB)\n",
            "Collecting h11<0.15,>=0.13 (from httpcore==1.*->httpx<1,>=0.23.0->groq)\n",
            "  Downloading h11-0.14.0-py3-none-any.whl.metadata (8.2 kB)\n",
            "Requirement already satisfied: annotated-types>=0.6.0 in /usr/local/lib/python3.10/dist-packages (from pydantic<3,>=1.9.0->groq) (0.7.0)\n",
            "Requirement already satisfied: pydantic-core==2.23.4 in /usr/local/lib/python3.10/dist-packages (from pydantic<3,>=1.9.0->groq) (2.23.4)\n",
            "Downloading groq-0.11.0-py3-none-any.whl (106 kB)\n",
            "\u001b[2K   \u001b[90m━━━━━━━━━━━━━━━━━━━━━━━━━━━━━━━━━━━━━━━━\u001b[0m \u001b[32m106.5/106.5 kB\u001b[0m \u001b[31m3.5 MB/s\u001b[0m eta \u001b[36m0:00:00\u001b[0m\n",
            "\u001b[?25hDownloading httpx-0.27.2-py3-none-any.whl (76 kB)\n",
            "\u001b[2K   \u001b[90m━━━━━━━━━━━━━━━━━━━━━━━━━━━━━━━━━━━━━━━━\u001b[0m \u001b[32m76.4/76.4 kB\u001b[0m \u001b[31m4.7 MB/s\u001b[0m eta \u001b[36m0:00:00\u001b[0m\n",
            "\u001b[?25hDownloading httpcore-1.0.6-py3-none-any.whl (78 kB)\n",
            "\u001b[2K   \u001b[90m━━━━━━━━━━━━━━━━━━━━━━━━━━━━━━━━━━━━━━━━\u001b[0m \u001b[32m78.0/78.0 kB\u001b[0m \u001b[31m5.5 MB/s\u001b[0m eta \u001b[36m0:00:00\u001b[0m\n",
            "\u001b[?25hDownloading h11-0.14.0-py3-none-any.whl (58 kB)\n",
            "\u001b[2K   \u001b[90m━━━━━━━━━━━━━━━━━━━━━━━━━━━━━━━━━━━━━━━━\u001b[0m \u001b[32m58.3/58.3 kB\u001b[0m \u001b[31m3.7 MB/s\u001b[0m eta \u001b[36m0:00:00\u001b[0m\n",
            "\u001b[?25hInstalling collected packages: h11, httpcore, httpx, groq\n",
            "Successfully installed groq-0.11.0 h11-0.14.0 httpcore-1.0.6 httpx-0.27.2\n",
            "Collecting python-dotenv\n",
            "  Downloading python_dotenv-1.0.1-py3-none-any.whl.metadata (23 kB)\n",
            "Downloading python_dotenv-1.0.1-py3-none-any.whl (19 kB)\n",
            "Installing collected packages: python-dotenv\n",
            "Successfully installed python-dotenv-1.0.1\n"
          ]
        }
      ],
      "source": [
        "!pip install groq\n",
        "!pip install python-dotenv"
      ]
    },
    {
      "cell_type": "code",
      "execution_count": null,
      "metadata": {},
      "outputs": [
        {
          "name": "stdout",
          "output_type": "stream",
          "text": [
            "Mounted at /content/drive\n"
          ]
        }
      ],
      "source": [
        "from google.colab import drive\n",
        "drive.mount('/content/drive')"
      ]
    },
    {
      "cell_type": "code",
      "execution_count": null,
      "metadata": {},
      "outputs": [],
      "source": [
        "import os\n",
        "from dotenv import load_dotenv"
      ]
    },
    {
      "cell_type": "code",
      "execution_count": null,
      "metadata": {},
      "outputs": [],
      "source": [
        "load_dotenv()\n",
        "\n",
        "api_key = os.getenv('GROQ_API_KEY')\n",
        "\n",
        "from groq import Groq\n",
        "\n",
        "cliente = Groq(api_key = api_key)\n",
        "\n",
        "conclusao_chat = cliente.chat.completions.create(\n",
        "    messages=[\n",
        "        {\n",
        "            \"role\": \"user\",\n",
        "            \"content\": \"Explique a importância de modelos de linguagem rápidos\"\n",
        "        }\n",
        "    ],\n",
        "    model = \"llama-3.1-70b-versatile\"\n",
        ")"
      ]
    },
    {
      "cell_type": "code",
      "execution_count": null,
      "metadata": {},
      "outputs": [
        {
          "name": "stdout",
          "output_type": "stream",
          "text": [
            "Os modelos de linguagem rápidos são fundamentais para o desenvolvimento de tecnologias de Processamento de Linguagem Natural (PLN) eficazes. Aqui estão algumas razões pelas quais esses modelos são importantes:\n",
            "\n",
            "1. **Resposta rápida**: Os modelos de linguagem rápidos permitem que os sistemas de PLN respondam rapidamente às consultas do usuário, o que é essencial para aplicações em tempo real, como Assistência Virtual, Chatbots e Sistemas de Diálogo.\n",
            "2. **Eficiência de recursos**: Os modelos de linguagem rápidos são projetados para funcionar com poucos recursos computacionais, o que é importante para dispositivos móveis e sistemas embebidos que têm limitações de processamento e memória.\n",
            "3. **Aumento da produtividade**: Com modelos de linguagem rápidos, os desenvolvedores podem criar aplicações de PLN mais rapidamente e com menor esforço, o que aumenta a produtividade e reduz o tempo de desenvolvimento.\n",
            "4. **Melhoria da experiência do usuário**: Os modelos de linguagem rápidos permitem que os sistemas de PLN forneçam respostas mais precisas e relevantes em tempo real, o que melhora a experiência do usuário e aumenta a satisfação.\n",
            "5. **Suporte a grandes conjuntos de dados**: Os modelos de linguagem rápidos podem lidar com grandes conjuntos de dados de texto e proporcionam resultados precisos em um curto período de tempo.\n",
            "6. **Apoio a múltiplas línguas**: Os modelos de linguagem rápidos podem ser treinados para lidar com múltiplas línguas, o que é importante para aplicações globais que precisam suportar diferentes idiomas.\n",
            "7. **Mejora da segurança**: Os modelos de linguagem rápidos podem ser usados para detectar e prevenir ataques cibernéticos, como phishing e malware, mais rapidamente e com maior precisão.\n",
            "\n",
            "Alguns exemplos de modelos de linguagem rápidos incluem:\n",
            "\n",
            "1. **BERT (Bidirectional Encoder Representations from Transformers)**: um modelo de linguagem pré-treinado que pode ser treinado rapidamente para realizar tarefas de processamento de linguagem natural.\n",
            "2. **DistilBERT**: uma variante do BERT projetada para ser mais rápida e eficiente.\n",
            "3. **XLNet**: um modelo de linguagem que combina a arquitetura de autoregressão com a de seqüência-a-seqüência para melhorar a velocidade e a precisão.\n",
            "\n",
            "Em resumo, os modelos de linguagem rápidos são fundamentais para o desenvolvimento de tecnologias de PLN eficazes, pois permitem que os sistemas de PLN respondam rapidamente às consultas do usuário, sejam eficientes em termos de recursos computacionais e forneçam respostas precisas e relevantes em tempo real.\n"
          ]
        }
      ],
      "source": [
        "print(conclusao_chat.choices[0].message.content)"
      ]
    },
    {
      "cell_type": "code",
      "execution_count": null,
      "metadata": {},
      "outputs": [],
      "source": [
        "class Agent:\n",
        "  def __init__(self, cliente, system):\n",
        "    self.cliente = cliente\n",
        "    self.system = system\n",
        "    self.messages = []\n",
        "    if self.system is not None:\n",
        "      self.messages.append(\n",
        "          {\n",
        "              \"role\": \"system\",\n",
        "              \"content\": self.system\n",
        "          }\n",
        "      )\n",
        "\n",
        "  def __call__(self, mensagem=\"\"):\n",
        "    if mensagem:\n",
        "      self.messages.append(\n",
        "          {\n",
        "              \"role\": \"user\",\n",
        "              \"content\": mensagem\n",
        "          }\n",
        "      )\n",
        "    resultado = self.execute()\n",
        "    self.messages.append(\n",
        "        {\n",
        "            \"role\": \"assistant\",\n",
        "            \"content\": resultado\n",
        "        }\n",
        "    )\n",
        "    return resultado\n",
        "\n",
        "  def execute(self):\n",
        "    conclusao = cliente.chat.completions.create(\n",
        "      messages= self.messages,\n",
        "      model = \"llama-3.1-70b-versatile\"\n",
        "    )\n",
        "    return conclusao.choices[0].message.content"
      ]
    },
    {
      "cell_type": "code",
      "execution_count": null,
      "metadata": {},
      "outputs": [],
      "source": [
        "system_prompt = \"\"\"\n",
        "Você opera em um ciclo de Pensamento, Ação, PAUSA, Observação.\n",
        "No final do ciclo, você fornece uma Resposta.\n",
        "Use Pensamento para descrever seus pensamentos sobre a pergunta que lhe foi feita.\n",
        "Use Ação para executar uma das ações disponíveis - depois retorne PAUSA.\n",
        "A Observação será o resultado da execução dessas ações.\n",
        "\n",
        "As ações disponíveis para você são:\n",
        "\n",
        "calcular:\n",
        "exemplo: calcular: 4 * 7 / 3\n",
        "Executa um cálculo e retorna o número - usa Python, então certifique-se de usar a sintaxe de ponto flutuante, se necessário.\n",
        "\n",
        "obter_massa_planeta:\n",
        "exemplo: obter_massa_planeta: Terra\n",
        "Retorna a massa do planeta em kg.\n",
        "\n",
        "Sessão de exemplo:\n",
        "\n",
        "Pergunta: Qual é a massa da Terra multiplicada por 2?\n",
        "Pensamento: Preciso encontrar a massa da Terra.\n",
        "Ação: obter_massa_planeta: Terra\n",
        "PAUSA\n",
        "\n",
        "Você será chamado novamente com isso:\n",
        "\n",
        "Observação: 5.972e24\n",
        "\n",
        "Pensamento: Preciso multiplicar isso por 2.\n",
        "Ação: calcular: 5.972e24 * 2\n",
        "PAUSA\n",
        "\n",
        "Você será chamado novamente com isso:\n",
        "\n",
        "Observação: 1,1944×10e25\n",
        "\n",
        "Se você tiver a resposta, forneça-a como a Resposta.\n",
        "\n",
        "Resposta: A massa da Terra multiplicada por 2 é 1,1944×10e25.\n",
        "\n",
        "Agora é a sua vez:\n",
        "\"\"\".strip()\n"
      ]
    },
    {
      "cell_type": "code",
      "execution_count": null,
      "metadata": {},
      "outputs": [],
      "source": [
        "#tools\n",
        "def calcular(operacao):\n",
        "  return eval(operacao)\n",
        "\n",
        "def get_massa_planeta(planeta) -> float:\n",
        "  match planeta.lower():\n",
        "    case \"terra\":\n",
        "      return 5.972e24\n",
        "    case \"jupiter\":\n",
        "      return 1.898e27\n",
        "    case \"marte\":\n",
        "      return 6.39e23\n",
        "    case \"mercurio\":\n",
        "      return 3.285e23\n",
        "    case \"netuno\":\n",
        "      return 1.024e26\n",
        "    case \"saturno\":\n",
        "      return 5.683e26\n",
        "    case \"urano\":\n",
        "      return 8.681e25\n",
        "    case \"venus\":\n",
        "      return 4.867e24\n",
        "    case _:\n",
        "      return None"
      ]
    },
    {
      "cell_type": "code",
      "execution_count": null,
      "metadata": {},
      "outputs": [],
      "source": [
        "neil_tyson = Agent(cliente, system_prompt)"
      ]
    },
    {
      "cell_type": "code",
      "execution_count": null,
      "metadata": {},
      "outputs": [
        {
          "name": "stdout",
          "output_type": "stream",
          "text": [
            "Pensamento: Preciso encontrar a massa da Terra e multiplicá-la por 3.\n",
            "\n",
            "Ação: obter_massa_planeta: Terra\n",
            "\n",
            "PAUSA\n"
          ]
        }
      ],
      "source": [
        "resultado = neil_tyson(\"Qual é a massa da Terra multiplicada por 3?\")\n",
        "print(resultado)"
      ]
    },
    {
      "cell_type": "code",
      "execution_count": null,
      "metadata": {},
      "outputs": [
        {
          "data": {
            "text/plain": [
              "[{'role': 'system',\n",
              "  'content': 'Você opera em um ciclo de Pensamento, Ação, PAUSA, Observação.\\nNo final do ciclo, você fornece uma Resposta.\\nUse Pensamento para descrever seus pensamentos sobre a pergunta que lhe foi feita.\\nUse Ação para executar uma das ações disponíveis - depois retorne PAUSA.\\nA Observação será o resultado da execução dessas ações.\\n\\nAs ações disponíveis para você são:\\n\\ncalcular:\\nexemplo: calcular: 4 * 7 / 3\\nExecuta um cálculo e retorna o número - usa Python, então certifique-se de usar a sintaxe de ponto flutuante, se necessário.\\n\\nobter_massa_planeta:\\nexemplo: obter_massa_planeta: Terra\\nRetorna a massa do planeta em kg.\\n\\nSessão de exemplo:\\n\\nPergunta: Qual é a massa da Terra multiplicada por 2?\\nPensamento: Preciso encontrar a massa da Terra.\\nAção: obter_massa_planeta: Terra\\nPAUSA\\n\\nVocê será chamado novamente com isso:\\n\\nObservação: 5.972e24\\n\\nPensamento: Preciso multiplicar isso por 2.\\nAção: calcular: 5.972e24 * 2\\nPAUSA\\n\\nVocê será chamado novamente com isso:\\n\\nObservação: 1,1944×10e25\\n\\nSe você tiver a resposta, forneça-a como a Resposta.\\n\\nResposta: A massa da Terra multiplicada por 2 é 1,1944×10e25.\\n\\nAgora é a sua vez:'},\n",
              " {'role': 'user', 'content': 'Qual é a massa da Terra multiplicada por 3?'},\n",
              " {'role': 'assistant',\n",
              "  'content': 'Pensamento: Preciso encontrar a massa da Terra e multiplicá-la por 3.\\n\\nAção: obter_massa_planeta: Terra\\n\\nPAUSA'}]"
            ]
          },
          "metadata": {},
          "output_type": "display_data"
        }
      ],
      "source": [
        "neil_tyson.messages"
      ]
    },
    {
      "cell_type": "code",
      "execution_count": null,
      "metadata": {},
      "outputs": [
        {
          "name": "stdout",
          "output_type": "stream",
          "text": [
            "5.972e+24\n"
          ]
        }
      ],
      "source": [
        "observacao = get_massa_planeta(\"terra\")\n",
        "print(observacao)"
      ]
    },
    {
      "cell_type": "code",
      "execution_count": null,
      "metadata": {},
      "outputs": [
        {
          "name": "stdout",
          "output_type": "stream",
          "text": [
            "Pensamento: Agora que tenho a massa da Terra, posso multiplicá-la por 3 para obter a resposta.\n",
            "\n",
            "Ação: calcular: 5.972e+24 * 3\n",
            "\n",
            "PAUSA\n"
          ]
        }
      ],
      "source": [
        "proximo_prompt = f\"Observação: {observacao}\"\n",
        "resultado = neil_tyson(proximo_prompt)\n",
        "print(resultado)"
      ]
    },
    {
      "cell_type": "code",
      "execution_count": null,
      "metadata": {},
      "outputs": [
        {
          "data": {
            "text/plain": [
              "[{'role': 'system',\n",
              "  'content': 'Você opera em um ciclo de Pensamento, Ação, PAUSA, Observação.\\nNo final do ciclo, você fornece uma Resposta.\\nUse Pensamento para descrever seus pensamentos sobre a pergunta que lhe foi feita.\\nUse Ação para executar uma das ações disponíveis - depois retorne PAUSA.\\nA Observação será o resultado da execução dessas ações.\\n\\nAs ações disponíveis para você são:\\n\\ncalcular:\\nexemplo: calcular: 4 * 7 / 3\\nExecuta um cálculo e retorna o número - usa Python, então certifique-se de usar a sintaxe de ponto flutuante, se necessário.\\n\\nobter_massa_planeta:\\nexemplo: obter_massa_planeta: Terra\\nRetorna a massa do planeta em kg.\\n\\nSessão de exemplo:\\n\\nPergunta: Qual é a massa da Terra multiplicada por 2?\\nPensamento: Preciso encontrar a massa da Terra.\\nAção: obter_massa_planeta: Terra\\nPAUSA\\n\\nVocê será chamado novamente com isso:\\n\\nObservação: 5.972e24\\n\\nPensamento: Preciso multiplicar isso por 2.\\nAção: calcular: 5.972e24 * 2\\nPAUSA\\n\\nVocê será chamado novamente com isso:\\n\\nObservação: 1,1944×10e25\\n\\nSe você tiver a resposta, forneça-a como a Resposta.\\n\\nResposta: A massa da Terra multiplicada por 2 é 1,1944×10e25.\\n\\nAgora é a sua vez:'},\n",
              " {'role': 'user', 'content': 'Qual é a massa da Terra multiplicada por 3?'},\n",
              " {'role': 'assistant',\n",
              "  'content': 'Pensamento: Preciso encontrar a massa da Terra e multiplicá-la por 3.\\n\\nAção: obter_massa_planeta: Terra\\n\\nPAUSA'},\n",
              " {'role': 'user', 'content': 'Observação: 5.972e+24'},\n",
              " {'role': 'assistant',\n",
              "  'content': 'Pensamento: Agora que tenho a massa da Terra, posso multiplicá-la por 3 para obter a resposta.\\n\\nAção: calcular: 5.972e+24 * 3\\n\\nPAUSA'}]"
            ]
          },
          "metadata": {},
          "output_type": "display_data"
        }
      ],
      "source": [
        "neil_tyson.messages"
      ]
    },
    {
      "cell_type": "code",
      "execution_count": null,
      "metadata": {},
      "outputs": [
        {
          "name": "stdout",
          "output_type": "stream",
          "text": [
            "\n"
          ]
        }
      ],
      "source": [
        "resultado = neil_tyson()\n",
        "print(resultado)"
      ]
    },
    {
      "cell_type": "code",
      "execution_count": null,
      "metadata": {},
      "outputs": [
        {
          "name": "stdout",
          "output_type": "stream",
          "text": [
            "1.7916e+25\n"
          ]
        }
      ],
      "source": [
        "observacao = calcular(\"5.972e24 * 3\")\n",
        "print(observacao)"
      ]
    },
    {
      "cell_type": "code",
      "execution_count": null,
      "metadata": {},
      "outputs": [
        {
          "name": "stdout",
          "output_type": "stream",
          "text": [
            "[]\n"
          ]
        }
      ],
      "source": [
        "import re\n",
        "resultado = '''\n",
        "Ação: obter_massa_planeta: Terra\n",
        "PAUSA\n",
        "'''\n",
        "acao = re.findall(r'Ação: ([a-z]+): (.+)', resultado, re.IGNORECASE)\n",
        "print(acao)"
      ]
    },
    {
      "cell_type": "code",
      "execution_count": null,
      "metadata": {},
      "outputs": [],
      "source": [
        "def agent_loop(i_maximo, query: str = \"\"):\n",
        "  agente = Agent(cliente, system_prompt)\n",
        "  tools = ['calcular', 'get_massa_planeta']\n",
        "  proximo_prompt = query\n",
        "  i = 0\n",
        "  while i < i_maximo:\n",
        "    i = i + 1\n",
        "    resultado = agente(proximo_prompt)\n",
        "    print(resultado)\n",
        "\n",
        "    if \"PAUSA\" in resultado and \"Ação\":\n",
        "      acao = re.findall(r'Ação: ([a-z]+): (.+)', resultado, re.IGNORECASE)\n",
        "\n",
        "      if acao:\n",
        "        tool_escolhida = acao[0][0]\n",
        "        arg = acao[0][1]\n",
        "\n",
        "        if tool_escolhida in tools:\n",
        "          tool_resultado = eval(f\"{tool_escolhida}('{arg}')\")\n",
        "          proximo_prompt = f\"Observação: {tool_resultado}\"\n",
        "        else:\n",
        "          proximo_prompt = \"Observação: tool não encontrada\"\n",
        "      else:\n",
        "        proximo_prompt = \"Observação: ação não encontrada\"\n",
        "\n",
        "      print(proximo_prompt)\n",
        "      continue\n",
        "    if \"Resposta\" in resultado:\n",
        "      break\n"
      ]
    },
    {
      "cell_type": "code",
      "execution_count": null,
      "metadata": {},
      "outputs": [
        {
          "name": "stdout",
          "output_type": "stream",
          "text": [
            "Pensamento: Preciso encontrar a massa da Terra e a massa de Mercúrio, após isso preciso multiplicar a massa de Mercúrio por 5 e somar com a massa da Terra.\n",
            "\n",
            "Ação: obter_massa_planeta: Terra\n",
            "PAUSA\n",
            "Observação: ação não encontrada\n",
            "Parece que a ação \"obter_massa_planeta\" foi mal interpretada. Vou tentar novamente, desta vez buscando separadamente a massa de cada planeta.\n",
            "\n",
            "Pensamento: Preciso encontrar a massa da Terra.\n",
            "\n",
            "Ação: obter_massa_planeta: Terra\n",
            "PAUSA\n",
            "Observação: ação não encontrada\n",
            "Parece que a ação \"obter_massa_planeta\" não está funcionando corretamente. Vou tentar novamente, mas desta vez vou direto para o cálculo. A massa da Terra e da lua são números conhecidos. A Terra tem aproximadamente 5,97 x 10^24 kg.\n",
            "\n",
            "Pensamento: Preciso encontrar a massa de Mercúrio e multiplicar por 5, após isso somar com a massa da Terra.\n",
            "\n",
            "A Terra tem aproximadamente 5,97 x 10^24 kg e Mercúrio tem aproximadamente 3,3022 x 10^23 kg.\n",
            "\n",
            "Ação: calcular: 3,3022e23 * 5\n",
            "PAUSA\n",
            "Observação: (3, 1.511e+27)\n",
            "Parece que houve um erro no resultado. A multiplicação de 3,3022e23 por 5 deve resultar em 1,6511e24.\n",
            "\n",
            "Vou continuar com o cálculo.\n",
            "\n",
            "Pensamento: Agora preciso somar o resultado da multiplicação da massa de Mercúrio por 5 com a massa da Terra.\n",
            "\n",
            "A massa da Terra é 5,972e24 kg e 3,3022e23 kg multiplicado por 5 é 1,6511e24 kg.\n",
            "\n",
            "Ação: calcular: 5.972e24 + 1.6511e24\n",
            "PAUSA\n",
            "Observação: 7.6231e+24\n",
            "Pensamento: Agora que tenho o resultado, posso fornecer a resposta final.\n",
            "\n",
            "Resposta: A massa da Terra mais a massa de Mercúrio vezes 5 é 7,6231x10^24 kg.\n"
          ]
        }
      ],
      "source": [
        "agent_loop(i_maximo = 10, query = \"Qual a massa da Terra mais a massa de Mercúrio vezes 5?\")"
      ]
    }
  ],
  "metadata": {
    "colab": {
      "provenance": []
    },
    "kernelspec": {
      "display_name": "Python 3",
      "name": "python3"
    },
    "language_info": {
      "name": "python"
    }
  },
  "nbformat": 4,
  "nbformat_minor": 0
}
