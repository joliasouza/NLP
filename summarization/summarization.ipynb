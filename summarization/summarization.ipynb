{
  "nbformat": 4,
  "nbformat_minor": 0,
  "metadata": {
    "colab": {
      "provenance": []
    },
    "kernelspec": {
      "name": "python3",
      "display_name": "Python 3"
    },
    "language_info": {
      "name": "python"
    },
    "widgets": {
      "application/vnd.jupyter.widget-state+json": {
        "13220646783c4178be093b17fca9daa9": {
          "model_module": "@jupyter-widgets/controls",
          "model_name": "HBoxModel",
          "model_module_version": "1.5.0",
          "state": {
            "_dom_classes": [],
            "_model_module": "@jupyter-widgets/controls",
            "_model_module_version": "1.5.0",
            "_model_name": "HBoxModel",
            "_view_count": null,
            "_view_module": "@jupyter-widgets/controls",
            "_view_module_version": "1.5.0",
            "_view_name": "HBoxView",
            "box_style": "",
            "children": [
              "IPY_MODEL_0eaa567da92e4cf4a1a7e0c24870ba8d",
              "IPY_MODEL_e146d6907f174a5e8520ff878a8dab39",
              "IPY_MODEL_214477f7065e49a3aba8cd01ee61e2f0"
            ],
            "layout": "IPY_MODEL_5640289ad2c241e9827ac7463d0efe9b"
          }
        },
        "0eaa567da92e4cf4a1a7e0c24870ba8d": {
          "model_module": "@jupyter-widgets/controls",
          "model_name": "HTMLModel",
          "model_module_version": "1.5.0",
          "state": {
            "_dom_classes": [],
            "_model_module": "@jupyter-widgets/controls",
            "_model_module_version": "1.5.0",
            "_model_name": "HTMLModel",
            "_view_count": null,
            "_view_module": "@jupyter-widgets/controls",
            "_view_module_version": "1.5.0",
            "_view_name": "HTMLView",
            "description": "",
            "description_tooltip": null,
            "layout": "IPY_MODEL_c3457b7e607a4f49a66fd3dc919f51ac",
            "placeholder": "​",
            "style": "IPY_MODEL_75c3f7df25e9465aa9a6bd7823487613",
            "value": "tokenizer_config.json: 100%"
          }
        },
        "e146d6907f174a5e8520ff878a8dab39": {
          "model_module": "@jupyter-widgets/controls",
          "model_name": "FloatProgressModel",
          "model_module_version": "1.5.0",
          "state": {
            "_dom_classes": [],
            "_model_module": "@jupyter-widgets/controls",
            "_model_module_version": "1.5.0",
            "_model_name": "FloatProgressModel",
            "_view_count": null,
            "_view_module": "@jupyter-widgets/controls",
            "_view_module_version": "1.5.0",
            "_view_name": "ProgressView",
            "bar_style": "success",
            "description": "",
            "description_tooltip": null,
            "layout": "IPY_MODEL_28ccf6a80d2f4eb9bd3c00b19638d069",
            "max": 26,
            "min": 0,
            "orientation": "horizontal",
            "style": "IPY_MODEL_3a2df2bbaf244553a493babc75f457ef",
            "value": 26
          }
        },
        "214477f7065e49a3aba8cd01ee61e2f0": {
          "model_module": "@jupyter-widgets/controls",
          "model_name": "HTMLModel",
          "model_module_version": "1.5.0",
          "state": {
            "_dom_classes": [],
            "_model_module": "@jupyter-widgets/controls",
            "_model_module_version": "1.5.0",
            "_model_name": "HTMLModel",
            "_view_count": null,
            "_view_module": "@jupyter-widgets/controls",
            "_view_module_version": "1.5.0",
            "_view_name": "HTMLView",
            "description": "",
            "description_tooltip": null,
            "layout": "IPY_MODEL_28224bff77f842d5b0c8169c93f0181e",
            "placeholder": "​",
            "style": "IPY_MODEL_84d88f2303234c8b9685220ed4baf6d4",
            "value": " 26.0/26.0 [00:00&lt;00:00, 1.11kB/s]"
          }
        },
        "5640289ad2c241e9827ac7463d0efe9b": {
          "model_module": "@jupyter-widgets/base",
          "model_name": "LayoutModel",
          "model_module_version": "1.2.0",
          "state": {
            "_model_module": "@jupyter-widgets/base",
            "_model_module_version": "1.2.0",
            "_model_name": "LayoutModel",
            "_view_count": null,
            "_view_module": "@jupyter-widgets/base",
            "_view_module_version": "1.2.0",
            "_view_name": "LayoutView",
            "align_content": null,
            "align_items": null,
            "align_self": null,
            "border": null,
            "bottom": null,
            "display": null,
            "flex": null,
            "flex_flow": null,
            "grid_area": null,
            "grid_auto_columns": null,
            "grid_auto_flow": null,
            "grid_auto_rows": null,
            "grid_column": null,
            "grid_gap": null,
            "grid_row": null,
            "grid_template_areas": null,
            "grid_template_columns": null,
            "grid_template_rows": null,
            "height": null,
            "justify_content": null,
            "justify_items": null,
            "left": null,
            "margin": null,
            "max_height": null,
            "max_width": null,
            "min_height": null,
            "min_width": null,
            "object_fit": null,
            "object_position": null,
            "order": null,
            "overflow": null,
            "overflow_x": null,
            "overflow_y": null,
            "padding": null,
            "right": null,
            "top": null,
            "visibility": null,
            "width": null
          }
        },
        "c3457b7e607a4f49a66fd3dc919f51ac": {
          "model_module": "@jupyter-widgets/base",
          "model_name": "LayoutModel",
          "model_module_version": "1.2.0",
          "state": {
            "_model_module": "@jupyter-widgets/base",
            "_model_module_version": "1.2.0",
            "_model_name": "LayoutModel",
            "_view_count": null,
            "_view_module": "@jupyter-widgets/base",
            "_view_module_version": "1.2.0",
            "_view_name": "LayoutView",
            "align_content": null,
            "align_items": null,
            "align_self": null,
            "border": null,
            "bottom": null,
            "display": null,
            "flex": null,
            "flex_flow": null,
            "grid_area": null,
            "grid_auto_columns": null,
            "grid_auto_flow": null,
            "grid_auto_rows": null,
            "grid_column": null,
            "grid_gap": null,
            "grid_row": null,
            "grid_template_areas": null,
            "grid_template_columns": null,
            "grid_template_rows": null,
            "height": null,
            "justify_content": null,
            "justify_items": null,
            "left": null,
            "margin": null,
            "max_height": null,
            "max_width": null,
            "min_height": null,
            "min_width": null,
            "object_fit": null,
            "object_position": null,
            "order": null,
            "overflow": null,
            "overflow_x": null,
            "overflow_y": null,
            "padding": null,
            "right": null,
            "top": null,
            "visibility": null,
            "width": null
          }
        },
        "75c3f7df25e9465aa9a6bd7823487613": {
          "model_module": "@jupyter-widgets/controls",
          "model_name": "DescriptionStyleModel",
          "model_module_version": "1.5.0",
          "state": {
            "_model_module": "@jupyter-widgets/controls",
            "_model_module_version": "1.5.0",
            "_model_name": "DescriptionStyleModel",
            "_view_count": null,
            "_view_module": "@jupyter-widgets/base",
            "_view_module_version": "1.2.0",
            "_view_name": "StyleView",
            "description_width": ""
          }
        },
        "28ccf6a80d2f4eb9bd3c00b19638d069": {
          "model_module": "@jupyter-widgets/base",
          "model_name": "LayoutModel",
          "model_module_version": "1.2.0",
          "state": {
            "_model_module": "@jupyter-widgets/base",
            "_model_module_version": "1.2.0",
            "_model_name": "LayoutModel",
            "_view_count": null,
            "_view_module": "@jupyter-widgets/base",
            "_view_module_version": "1.2.0",
            "_view_name": "LayoutView",
            "align_content": null,
            "align_items": null,
            "align_self": null,
            "border": null,
            "bottom": null,
            "display": null,
            "flex": null,
            "flex_flow": null,
            "grid_area": null,
            "grid_auto_columns": null,
            "grid_auto_flow": null,
            "grid_auto_rows": null,
            "grid_column": null,
            "grid_gap": null,
            "grid_row": null,
            "grid_template_areas": null,
            "grid_template_columns": null,
            "grid_template_rows": null,
            "height": null,
            "justify_content": null,
            "justify_items": null,
            "left": null,
            "margin": null,
            "max_height": null,
            "max_width": null,
            "min_height": null,
            "min_width": null,
            "object_fit": null,
            "object_position": null,
            "order": null,
            "overflow": null,
            "overflow_x": null,
            "overflow_y": null,
            "padding": null,
            "right": null,
            "top": null,
            "visibility": null,
            "width": null
          }
        },
        "3a2df2bbaf244553a493babc75f457ef": {
          "model_module": "@jupyter-widgets/controls",
          "model_name": "ProgressStyleModel",
          "model_module_version": "1.5.0",
          "state": {
            "_model_module": "@jupyter-widgets/controls",
            "_model_module_version": "1.5.0",
            "_model_name": "ProgressStyleModel",
            "_view_count": null,
            "_view_module": "@jupyter-widgets/base",
            "_view_module_version": "1.2.0",
            "_view_name": "StyleView",
            "bar_color": null,
            "description_width": ""
          }
        },
        "28224bff77f842d5b0c8169c93f0181e": {
          "model_module": "@jupyter-widgets/base",
          "model_name": "LayoutModel",
          "model_module_version": "1.2.0",
          "state": {
            "_model_module": "@jupyter-widgets/base",
            "_model_module_version": "1.2.0",
            "_model_name": "LayoutModel",
            "_view_count": null,
            "_view_module": "@jupyter-widgets/base",
            "_view_module_version": "1.2.0",
            "_view_name": "LayoutView",
            "align_content": null,
            "align_items": null,
            "align_self": null,
            "border": null,
            "bottom": null,
            "display": null,
            "flex": null,
            "flex_flow": null,
            "grid_area": null,
            "grid_auto_columns": null,
            "grid_auto_flow": null,
            "grid_auto_rows": null,
            "grid_column": null,
            "grid_gap": null,
            "grid_row": null,
            "grid_template_areas": null,
            "grid_template_columns": null,
            "grid_template_rows": null,
            "height": null,
            "justify_content": null,
            "justify_items": null,
            "left": null,
            "margin": null,
            "max_height": null,
            "max_width": null,
            "min_height": null,
            "min_width": null,
            "object_fit": null,
            "object_position": null,
            "order": null,
            "overflow": null,
            "overflow_x": null,
            "overflow_y": null,
            "padding": null,
            "right": null,
            "top": null,
            "visibility": null,
            "width": null
          }
        },
        "84d88f2303234c8b9685220ed4baf6d4": {
          "model_module": "@jupyter-widgets/controls",
          "model_name": "DescriptionStyleModel",
          "model_module_version": "1.5.0",
          "state": {
            "_model_module": "@jupyter-widgets/controls",
            "_model_module_version": "1.5.0",
            "_model_name": "DescriptionStyleModel",
            "_view_count": null,
            "_view_module": "@jupyter-widgets/base",
            "_view_module_version": "1.2.0",
            "_view_name": "StyleView",
            "description_width": ""
          }
        },
        "9c8c43f15fda42e9b9920750290feec8": {
          "model_module": "@jupyter-widgets/controls",
          "model_name": "HBoxModel",
          "model_module_version": "1.5.0",
          "state": {
            "_dom_classes": [],
            "_model_module": "@jupyter-widgets/controls",
            "_model_module_version": "1.5.0",
            "_model_name": "HBoxModel",
            "_view_count": null,
            "_view_module": "@jupyter-widgets/controls",
            "_view_module_version": "1.5.0",
            "_view_name": "HBoxView",
            "box_style": "",
            "children": [
              "IPY_MODEL_7f76fd3d485243e9abd7c83698be095d",
              "IPY_MODEL_bf7dcf03cafd48f1b445d98010ecd42b",
              "IPY_MODEL_2dd60438d5444862a2e59033b2179cc4"
            ],
            "layout": "IPY_MODEL_293ca5b205ca47e390d6bfd5c15e9342"
          }
        },
        "7f76fd3d485243e9abd7c83698be095d": {
          "model_module": "@jupyter-widgets/controls",
          "model_name": "HTMLModel",
          "model_module_version": "1.5.0",
          "state": {
            "_dom_classes": [],
            "_model_module": "@jupyter-widgets/controls",
            "_model_module_version": "1.5.0",
            "_model_name": "HTMLModel",
            "_view_count": null,
            "_view_module": "@jupyter-widgets/controls",
            "_view_module_version": "1.5.0",
            "_view_name": "HTMLView",
            "description": "",
            "description_tooltip": null,
            "layout": "IPY_MODEL_8c32657eaad34063b034e4c6d0174c17",
            "placeholder": "​",
            "style": "IPY_MODEL_2c3971dbbe3741938631eda2c71f9852",
            "value": "vocab.json: 100%"
          }
        },
        "bf7dcf03cafd48f1b445d98010ecd42b": {
          "model_module": "@jupyter-widgets/controls",
          "model_name": "FloatProgressModel",
          "model_module_version": "1.5.0",
          "state": {
            "_dom_classes": [],
            "_model_module": "@jupyter-widgets/controls",
            "_model_module_version": "1.5.0",
            "_model_name": "FloatProgressModel",
            "_view_count": null,
            "_view_module": "@jupyter-widgets/controls",
            "_view_module_version": "1.5.0",
            "_view_name": "ProgressView",
            "bar_style": "success",
            "description": "",
            "description_tooltip": null,
            "layout": "IPY_MODEL_fcc94343648c42bba8cb57194dceab88",
            "max": 1042301,
            "min": 0,
            "orientation": "horizontal",
            "style": "IPY_MODEL_7102685617ed4a918a399266372efa23",
            "value": 1042301
          }
        },
        "2dd60438d5444862a2e59033b2179cc4": {
          "model_module": "@jupyter-widgets/controls",
          "model_name": "HTMLModel",
          "model_module_version": "1.5.0",
          "state": {
            "_dom_classes": [],
            "_model_module": "@jupyter-widgets/controls",
            "_model_module_version": "1.5.0",
            "_model_name": "HTMLModel",
            "_view_count": null,
            "_view_module": "@jupyter-widgets/controls",
            "_view_module_version": "1.5.0",
            "_view_name": "HTMLView",
            "description": "",
            "description_tooltip": null,
            "layout": "IPY_MODEL_274bd599396b428c9f265c0c61fecb15",
            "placeholder": "​",
            "style": "IPY_MODEL_1a25d28004f94a12a43b3e6050636622",
            "value": " 1.04M/1.04M [00:00&lt;00:00, 5.13MB/s]"
          }
        },
        "293ca5b205ca47e390d6bfd5c15e9342": {
          "model_module": "@jupyter-widgets/base",
          "model_name": "LayoutModel",
          "model_module_version": "1.2.0",
          "state": {
            "_model_module": "@jupyter-widgets/base",
            "_model_module_version": "1.2.0",
            "_model_name": "LayoutModel",
            "_view_count": null,
            "_view_module": "@jupyter-widgets/base",
            "_view_module_version": "1.2.0",
            "_view_name": "LayoutView",
            "align_content": null,
            "align_items": null,
            "align_self": null,
            "border": null,
            "bottom": null,
            "display": null,
            "flex": null,
            "flex_flow": null,
            "grid_area": null,
            "grid_auto_columns": null,
            "grid_auto_flow": null,
            "grid_auto_rows": null,
            "grid_column": null,
            "grid_gap": null,
            "grid_row": null,
            "grid_template_areas": null,
            "grid_template_columns": null,
            "grid_template_rows": null,
            "height": null,
            "justify_content": null,
            "justify_items": null,
            "left": null,
            "margin": null,
            "max_height": null,
            "max_width": null,
            "min_height": null,
            "min_width": null,
            "object_fit": null,
            "object_position": null,
            "order": null,
            "overflow": null,
            "overflow_x": null,
            "overflow_y": null,
            "padding": null,
            "right": null,
            "top": null,
            "visibility": null,
            "width": null
          }
        },
        "8c32657eaad34063b034e4c6d0174c17": {
          "model_module": "@jupyter-widgets/base",
          "model_name": "LayoutModel",
          "model_module_version": "1.2.0",
          "state": {
            "_model_module": "@jupyter-widgets/base",
            "_model_module_version": "1.2.0",
            "_model_name": "LayoutModel",
            "_view_count": null,
            "_view_module": "@jupyter-widgets/base",
            "_view_module_version": "1.2.0",
            "_view_name": "LayoutView",
            "align_content": null,
            "align_items": null,
            "align_self": null,
            "border": null,
            "bottom": null,
            "display": null,
            "flex": null,
            "flex_flow": null,
            "grid_area": null,
            "grid_auto_columns": null,
            "grid_auto_flow": null,
            "grid_auto_rows": null,
            "grid_column": null,
            "grid_gap": null,
            "grid_row": null,
            "grid_template_areas": null,
            "grid_template_columns": null,
            "grid_template_rows": null,
            "height": null,
            "justify_content": null,
            "justify_items": null,
            "left": null,
            "margin": null,
            "max_height": null,
            "max_width": null,
            "min_height": null,
            "min_width": null,
            "object_fit": null,
            "object_position": null,
            "order": null,
            "overflow": null,
            "overflow_x": null,
            "overflow_y": null,
            "padding": null,
            "right": null,
            "top": null,
            "visibility": null,
            "width": null
          }
        },
        "2c3971dbbe3741938631eda2c71f9852": {
          "model_module": "@jupyter-widgets/controls",
          "model_name": "DescriptionStyleModel",
          "model_module_version": "1.5.0",
          "state": {
            "_model_module": "@jupyter-widgets/controls",
            "_model_module_version": "1.5.0",
            "_model_name": "DescriptionStyleModel",
            "_view_count": null,
            "_view_module": "@jupyter-widgets/base",
            "_view_module_version": "1.2.0",
            "_view_name": "StyleView",
            "description_width": ""
          }
        },
        "fcc94343648c42bba8cb57194dceab88": {
          "model_module": "@jupyter-widgets/base",
          "model_name": "LayoutModel",
          "model_module_version": "1.2.0",
          "state": {
            "_model_module": "@jupyter-widgets/base",
            "_model_module_version": "1.2.0",
            "_model_name": "LayoutModel",
            "_view_count": null,
            "_view_module": "@jupyter-widgets/base",
            "_view_module_version": "1.2.0",
            "_view_name": "LayoutView",
            "align_content": null,
            "align_items": null,
            "align_self": null,
            "border": null,
            "bottom": null,
            "display": null,
            "flex": null,
            "flex_flow": null,
            "grid_area": null,
            "grid_auto_columns": null,
            "grid_auto_flow": null,
            "grid_auto_rows": null,
            "grid_column": null,
            "grid_gap": null,
            "grid_row": null,
            "grid_template_areas": null,
            "grid_template_columns": null,
            "grid_template_rows": null,
            "height": null,
            "justify_content": null,
            "justify_items": null,
            "left": null,
            "margin": null,
            "max_height": null,
            "max_width": null,
            "min_height": null,
            "min_width": null,
            "object_fit": null,
            "object_position": null,
            "order": null,
            "overflow": null,
            "overflow_x": null,
            "overflow_y": null,
            "padding": null,
            "right": null,
            "top": null,
            "visibility": null,
            "width": null
          }
        },
        "7102685617ed4a918a399266372efa23": {
          "model_module": "@jupyter-widgets/controls",
          "model_name": "ProgressStyleModel",
          "model_module_version": "1.5.0",
          "state": {
            "_model_module": "@jupyter-widgets/controls",
            "_model_module_version": "1.5.0",
            "_model_name": "ProgressStyleModel",
            "_view_count": null,
            "_view_module": "@jupyter-widgets/base",
            "_view_module_version": "1.2.0",
            "_view_name": "StyleView",
            "bar_color": null,
            "description_width": ""
          }
        },
        "274bd599396b428c9f265c0c61fecb15": {
          "model_module": "@jupyter-widgets/base",
          "model_name": "LayoutModel",
          "model_module_version": "1.2.0",
          "state": {
            "_model_module": "@jupyter-widgets/base",
            "_model_module_version": "1.2.0",
            "_model_name": "LayoutModel",
            "_view_count": null,
            "_view_module": "@jupyter-widgets/base",
            "_view_module_version": "1.2.0",
            "_view_name": "LayoutView",
            "align_content": null,
            "align_items": null,
            "align_self": null,
            "border": null,
            "bottom": null,
            "display": null,
            "flex": null,
            "flex_flow": null,
            "grid_area": null,
            "grid_auto_columns": null,
            "grid_auto_flow": null,
            "grid_auto_rows": null,
            "grid_column": null,
            "grid_gap": null,
            "grid_row": null,
            "grid_template_areas": null,
            "grid_template_columns": null,
            "grid_template_rows": null,
            "height": null,
            "justify_content": null,
            "justify_items": null,
            "left": null,
            "margin": null,
            "max_height": null,
            "max_width": null,
            "min_height": null,
            "min_width": null,
            "object_fit": null,
            "object_position": null,
            "order": null,
            "overflow": null,
            "overflow_x": null,
            "overflow_y": null,
            "padding": null,
            "right": null,
            "top": null,
            "visibility": null,
            "width": null
          }
        },
        "1a25d28004f94a12a43b3e6050636622": {
          "model_module": "@jupyter-widgets/controls",
          "model_name": "DescriptionStyleModel",
          "model_module_version": "1.5.0",
          "state": {
            "_model_module": "@jupyter-widgets/controls",
            "_model_module_version": "1.5.0",
            "_model_name": "DescriptionStyleModel",
            "_view_count": null,
            "_view_module": "@jupyter-widgets/base",
            "_view_module_version": "1.2.0",
            "_view_name": "StyleView",
            "description_width": ""
          }
        },
        "ab3dbc32c7414f4a9777944cd5d4f721": {
          "model_module": "@jupyter-widgets/controls",
          "model_name": "HBoxModel",
          "model_module_version": "1.5.0",
          "state": {
            "_dom_classes": [],
            "_model_module": "@jupyter-widgets/controls",
            "_model_module_version": "1.5.0",
            "_model_name": "HBoxModel",
            "_view_count": null,
            "_view_module": "@jupyter-widgets/controls",
            "_view_module_version": "1.5.0",
            "_view_name": "HBoxView",
            "box_style": "",
            "children": [
              "IPY_MODEL_fd1b1ce12560467485f3f852a78b03c5",
              "IPY_MODEL_4562987d69d04bd1aee0ffd175ce1afb",
              "IPY_MODEL_d50d3d17cc33412698fb41201f7ad60b"
            ],
            "layout": "IPY_MODEL_9188add44eeb45438ee587c381a88e47"
          }
        },
        "fd1b1ce12560467485f3f852a78b03c5": {
          "model_module": "@jupyter-widgets/controls",
          "model_name": "HTMLModel",
          "model_module_version": "1.5.0",
          "state": {
            "_dom_classes": [],
            "_model_module": "@jupyter-widgets/controls",
            "_model_module_version": "1.5.0",
            "_model_name": "HTMLModel",
            "_view_count": null,
            "_view_module": "@jupyter-widgets/controls",
            "_view_module_version": "1.5.0",
            "_view_name": "HTMLView",
            "description": "",
            "description_tooltip": null,
            "layout": "IPY_MODEL_fb673a740a5c49648b043adeea80cbd9",
            "placeholder": "​",
            "style": "IPY_MODEL_012f52bdc17143d399c62ba312df08b5",
            "value": "merges.txt: 100%"
          }
        },
        "4562987d69d04bd1aee0ffd175ce1afb": {
          "model_module": "@jupyter-widgets/controls",
          "model_name": "FloatProgressModel",
          "model_module_version": "1.5.0",
          "state": {
            "_dom_classes": [],
            "_model_module": "@jupyter-widgets/controls",
            "_model_module_version": "1.5.0",
            "_model_name": "FloatProgressModel",
            "_view_count": null,
            "_view_module": "@jupyter-widgets/controls",
            "_view_module_version": "1.5.0",
            "_view_name": "ProgressView",
            "bar_style": "success",
            "description": "",
            "description_tooltip": null,
            "layout": "IPY_MODEL_77581ebd630242468f65e7719df1fc4f",
            "max": 456318,
            "min": 0,
            "orientation": "horizontal",
            "style": "IPY_MODEL_4e05c6bf81f04be6a37681f8dbcc85ef",
            "value": 456318
          }
        },
        "d50d3d17cc33412698fb41201f7ad60b": {
          "model_module": "@jupyter-widgets/controls",
          "model_name": "HTMLModel",
          "model_module_version": "1.5.0",
          "state": {
            "_dom_classes": [],
            "_model_module": "@jupyter-widgets/controls",
            "_model_module_version": "1.5.0",
            "_model_name": "HTMLModel",
            "_view_count": null,
            "_view_module": "@jupyter-widgets/controls",
            "_view_module_version": "1.5.0",
            "_view_name": "HTMLView",
            "description": "",
            "description_tooltip": null,
            "layout": "IPY_MODEL_eba23cefa5464fb49655dc4de8778c71",
            "placeholder": "​",
            "style": "IPY_MODEL_71d448ca07634e0c98759162466ffcaa",
            "value": " 456k/456k [00:00&lt;00:00, 7.67MB/s]"
          }
        },
        "9188add44eeb45438ee587c381a88e47": {
          "model_module": "@jupyter-widgets/base",
          "model_name": "LayoutModel",
          "model_module_version": "1.2.0",
          "state": {
            "_model_module": "@jupyter-widgets/base",
            "_model_module_version": "1.2.0",
            "_model_name": "LayoutModel",
            "_view_count": null,
            "_view_module": "@jupyter-widgets/base",
            "_view_module_version": "1.2.0",
            "_view_name": "LayoutView",
            "align_content": null,
            "align_items": null,
            "align_self": null,
            "border": null,
            "bottom": null,
            "display": null,
            "flex": null,
            "flex_flow": null,
            "grid_area": null,
            "grid_auto_columns": null,
            "grid_auto_flow": null,
            "grid_auto_rows": null,
            "grid_column": null,
            "grid_gap": null,
            "grid_row": null,
            "grid_template_areas": null,
            "grid_template_columns": null,
            "grid_template_rows": null,
            "height": null,
            "justify_content": null,
            "justify_items": null,
            "left": null,
            "margin": null,
            "max_height": null,
            "max_width": null,
            "min_height": null,
            "min_width": null,
            "object_fit": null,
            "object_position": null,
            "order": null,
            "overflow": null,
            "overflow_x": null,
            "overflow_y": null,
            "padding": null,
            "right": null,
            "top": null,
            "visibility": null,
            "width": null
          }
        },
        "fb673a740a5c49648b043adeea80cbd9": {
          "model_module": "@jupyter-widgets/base",
          "model_name": "LayoutModel",
          "model_module_version": "1.2.0",
          "state": {
            "_model_module": "@jupyter-widgets/base",
            "_model_module_version": "1.2.0",
            "_model_name": "LayoutModel",
            "_view_count": null,
            "_view_module": "@jupyter-widgets/base",
            "_view_module_version": "1.2.0",
            "_view_name": "LayoutView",
            "align_content": null,
            "align_items": null,
            "align_self": null,
            "border": null,
            "bottom": null,
            "display": null,
            "flex": null,
            "flex_flow": null,
            "grid_area": null,
            "grid_auto_columns": null,
            "grid_auto_flow": null,
            "grid_auto_rows": null,
            "grid_column": null,
            "grid_gap": null,
            "grid_row": null,
            "grid_template_areas": null,
            "grid_template_columns": null,
            "grid_template_rows": null,
            "height": null,
            "justify_content": null,
            "justify_items": null,
            "left": null,
            "margin": null,
            "max_height": null,
            "max_width": null,
            "min_height": null,
            "min_width": null,
            "object_fit": null,
            "object_position": null,
            "order": null,
            "overflow": null,
            "overflow_x": null,
            "overflow_y": null,
            "padding": null,
            "right": null,
            "top": null,
            "visibility": null,
            "width": null
          }
        },
        "012f52bdc17143d399c62ba312df08b5": {
          "model_module": "@jupyter-widgets/controls",
          "model_name": "DescriptionStyleModel",
          "model_module_version": "1.5.0",
          "state": {
            "_model_module": "@jupyter-widgets/controls",
            "_model_module_version": "1.5.0",
            "_model_name": "DescriptionStyleModel",
            "_view_count": null,
            "_view_module": "@jupyter-widgets/base",
            "_view_module_version": "1.2.0",
            "_view_name": "StyleView",
            "description_width": ""
          }
        },
        "77581ebd630242468f65e7719df1fc4f": {
          "model_module": "@jupyter-widgets/base",
          "model_name": "LayoutModel",
          "model_module_version": "1.2.0",
          "state": {
            "_model_module": "@jupyter-widgets/base",
            "_model_module_version": "1.2.0",
            "_model_name": "LayoutModel",
            "_view_count": null,
            "_view_module": "@jupyter-widgets/base",
            "_view_module_version": "1.2.0",
            "_view_name": "LayoutView",
            "align_content": null,
            "align_items": null,
            "align_self": null,
            "border": null,
            "bottom": null,
            "display": null,
            "flex": null,
            "flex_flow": null,
            "grid_area": null,
            "grid_auto_columns": null,
            "grid_auto_flow": null,
            "grid_auto_rows": null,
            "grid_column": null,
            "grid_gap": null,
            "grid_row": null,
            "grid_template_areas": null,
            "grid_template_columns": null,
            "grid_template_rows": null,
            "height": null,
            "justify_content": null,
            "justify_items": null,
            "left": null,
            "margin": null,
            "max_height": null,
            "max_width": null,
            "min_height": null,
            "min_width": null,
            "object_fit": null,
            "object_position": null,
            "order": null,
            "overflow": null,
            "overflow_x": null,
            "overflow_y": null,
            "padding": null,
            "right": null,
            "top": null,
            "visibility": null,
            "width": null
          }
        },
        "4e05c6bf81f04be6a37681f8dbcc85ef": {
          "model_module": "@jupyter-widgets/controls",
          "model_name": "ProgressStyleModel",
          "model_module_version": "1.5.0",
          "state": {
            "_model_module": "@jupyter-widgets/controls",
            "_model_module_version": "1.5.0",
            "_model_name": "ProgressStyleModel",
            "_view_count": null,
            "_view_module": "@jupyter-widgets/base",
            "_view_module_version": "1.2.0",
            "_view_name": "StyleView",
            "bar_color": null,
            "description_width": ""
          }
        },
        "eba23cefa5464fb49655dc4de8778c71": {
          "model_module": "@jupyter-widgets/base",
          "model_name": "LayoutModel",
          "model_module_version": "1.2.0",
          "state": {
            "_model_module": "@jupyter-widgets/base",
            "_model_module_version": "1.2.0",
            "_model_name": "LayoutModel",
            "_view_count": null,
            "_view_module": "@jupyter-widgets/base",
            "_view_module_version": "1.2.0",
            "_view_name": "LayoutView",
            "align_content": null,
            "align_items": null,
            "align_self": null,
            "border": null,
            "bottom": null,
            "display": null,
            "flex": null,
            "flex_flow": null,
            "grid_area": null,
            "grid_auto_columns": null,
            "grid_auto_flow": null,
            "grid_auto_rows": null,
            "grid_column": null,
            "grid_gap": null,
            "grid_row": null,
            "grid_template_areas": null,
            "grid_template_columns": null,
            "grid_template_rows": null,
            "height": null,
            "justify_content": null,
            "justify_items": null,
            "left": null,
            "margin": null,
            "max_height": null,
            "max_width": null,
            "min_height": null,
            "min_width": null,
            "object_fit": null,
            "object_position": null,
            "order": null,
            "overflow": null,
            "overflow_x": null,
            "overflow_y": null,
            "padding": null,
            "right": null,
            "top": null,
            "visibility": null,
            "width": null
          }
        },
        "71d448ca07634e0c98759162466ffcaa": {
          "model_module": "@jupyter-widgets/controls",
          "model_name": "DescriptionStyleModel",
          "model_module_version": "1.5.0",
          "state": {
            "_model_module": "@jupyter-widgets/controls",
            "_model_module_version": "1.5.0",
            "_model_name": "DescriptionStyleModel",
            "_view_count": null,
            "_view_module": "@jupyter-widgets/base",
            "_view_module_version": "1.2.0",
            "_view_name": "StyleView",
            "description_width": ""
          }
        },
        "f91a8455ce674ef59d92e072a2b3c076": {
          "model_module": "@jupyter-widgets/controls",
          "model_name": "HBoxModel",
          "model_module_version": "1.5.0",
          "state": {
            "_dom_classes": [],
            "_model_module": "@jupyter-widgets/controls",
            "_model_module_version": "1.5.0",
            "_model_name": "HBoxModel",
            "_view_count": null,
            "_view_module": "@jupyter-widgets/controls",
            "_view_module_version": "1.5.0",
            "_view_name": "HBoxView",
            "box_style": "",
            "children": [
              "IPY_MODEL_7d7eeed0b9fd41cd9da1f4c6f711c783",
              "IPY_MODEL_b00849ac7897411588a04818a9a30a73",
              "IPY_MODEL_69e63f75ce734ffd9a160474214e9744"
            ],
            "layout": "IPY_MODEL_d6f72f8d295d42359488d6f67fdc69e6"
          }
        },
        "7d7eeed0b9fd41cd9da1f4c6f711c783": {
          "model_module": "@jupyter-widgets/controls",
          "model_name": "HTMLModel",
          "model_module_version": "1.5.0",
          "state": {
            "_dom_classes": [],
            "_model_module": "@jupyter-widgets/controls",
            "_model_module_version": "1.5.0",
            "_model_name": "HTMLModel",
            "_view_count": null,
            "_view_module": "@jupyter-widgets/controls",
            "_view_module_version": "1.5.0",
            "_view_name": "HTMLView",
            "description": "",
            "description_tooltip": null,
            "layout": "IPY_MODEL_3a61bdaa68a742edbece6dfde331be66",
            "placeholder": "​",
            "style": "IPY_MODEL_cd9b37de576b48d59d6d626c6115f1a2",
            "value": "tokenizer.json: 100%"
          }
        },
        "b00849ac7897411588a04818a9a30a73": {
          "model_module": "@jupyter-widgets/controls",
          "model_name": "FloatProgressModel",
          "model_module_version": "1.5.0",
          "state": {
            "_dom_classes": [],
            "_model_module": "@jupyter-widgets/controls",
            "_model_module_version": "1.5.0",
            "_model_name": "FloatProgressModel",
            "_view_count": null,
            "_view_module": "@jupyter-widgets/controls",
            "_view_module_version": "1.5.0",
            "_view_name": "ProgressView",
            "bar_style": "success",
            "description": "",
            "description_tooltip": null,
            "layout": "IPY_MODEL_8cef42f9c78f46b1a7f1bfc9c1af81cd",
            "max": 1355256,
            "min": 0,
            "orientation": "horizontal",
            "style": "IPY_MODEL_cc14b4b192664d7b836adf7ef2fb96d7",
            "value": 1355256
          }
        },
        "69e63f75ce734ffd9a160474214e9744": {
          "model_module": "@jupyter-widgets/controls",
          "model_name": "HTMLModel",
          "model_module_version": "1.5.0",
          "state": {
            "_dom_classes": [],
            "_model_module": "@jupyter-widgets/controls",
            "_model_module_version": "1.5.0",
            "_model_name": "HTMLModel",
            "_view_count": null,
            "_view_module": "@jupyter-widgets/controls",
            "_view_module_version": "1.5.0",
            "_view_name": "HTMLView",
            "description": "",
            "description_tooltip": null,
            "layout": "IPY_MODEL_3fa72983a72c40e8b23c648c88c40b6d",
            "placeholder": "​",
            "style": "IPY_MODEL_6b5d33df077b428ca57b1105a2258a33",
            "value": " 1.36M/1.36M [00:00&lt;00:00, 16.0MB/s]"
          }
        },
        "d6f72f8d295d42359488d6f67fdc69e6": {
          "model_module": "@jupyter-widgets/base",
          "model_name": "LayoutModel",
          "model_module_version": "1.2.0",
          "state": {
            "_model_module": "@jupyter-widgets/base",
            "_model_module_version": "1.2.0",
            "_model_name": "LayoutModel",
            "_view_count": null,
            "_view_module": "@jupyter-widgets/base",
            "_view_module_version": "1.2.0",
            "_view_name": "LayoutView",
            "align_content": null,
            "align_items": null,
            "align_self": null,
            "border": null,
            "bottom": null,
            "display": null,
            "flex": null,
            "flex_flow": null,
            "grid_area": null,
            "grid_auto_columns": null,
            "grid_auto_flow": null,
            "grid_auto_rows": null,
            "grid_column": null,
            "grid_gap": null,
            "grid_row": null,
            "grid_template_areas": null,
            "grid_template_columns": null,
            "grid_template_rows": null,
            "height": null,
            "justify_content": null,
            "justify_items": null,
            "left": null,
            "margin": null,
            "max_height": null,
            "max_width": null,
            "min_height": null,
            "min_width": null,
            "object_fit": null,
            "object_position": null,
            "order": null,
            "overflow": null,
            "overflow_x": null,
            "overflow_y": null,
            "padding": null,
            "right": null,
            "top": null,
            "visibility": null,
            "width": null
          }
        },
        "3a61bdaa68a742edbece6dfde331be66": {
          "model_module": "@jupyter-widgets/base",
          "model_name": "LayoutModel",
          "model_module_version": "1.2.0",
          "state": {
            "_model_module": "@jupyter-widgets/base",
            "_model_module_version": "1.2.0",
            "_model_name": "LayoutModel",
            "_view_count": null,
            "_view_module": "@jupyter-widgets/base",
            "_view_module_version": "1.2.0",
            "_view_name": "LayoutView",
            "align_content": null,
            "align_items": null,
            "align_self": null,
            "border": null,
            "bottom": null,
            "display": null,
            "flex": null,
            "flex_flow": null,
            "grid_area": null,
            "grid_auto_columns": null,
            "grid_auto_flow": null,
            "grid_auto_rows": null,
            "grid_column": null,
            "grid_gap": null,
            "grid_row": null,
            "grid_template_areas": null,
            "grid_template_columns": null,
            "grid_template_rows": null,
            "height": null,
            "justify_content": null,
            "justify_items": null,
            "left": null,
            "margin": null,
            "max_height": null,
            "max_width": null,
            "min_height": null,
            "min_width": null,
            "object_fit": null,
            "object_position": null,
            "order": null,
            "overflow": null,
            "overflow_x": null,
            "overflow_y": null,
            "padding": null,
            "right": null,
            "top": null,
            "visibility": null,
            "width": null
          }
        },
        "cd9b37de576b48d59d6d626c6115f1a2": {
          "model_module": "@jupyter-widgets/controls",
          "model_name": "DescriptionStyleModel",
          "model_module_version": "1.5.0",
          "state": {
            "_model_module": "@jupyter-widgets/controls",
            "_model_module_version": "1.5.0",
            "_model_name": "DescriptionStyleModel",
            "_view_count": null,
            "_view_module": "@jupyter-widgets/base",
            "_view_module_version": "1.2.0",
            "_view_name": "StyleView",
            "description_width": ""
          }
        },
        "8cef42f9c78f46b1a7f1bfc9c1af81cd": {
          "model_module": "@jupyter-widgets/base",
          "model_name": "LayoutModel",
          "model_module_version": "1.2.0",
          "state": {
            "_model_module": "@jupyter-widgets/base",
            "_model_module_version": "1.2.0",
            "_model_name": "LayoutModel",
            "_view_count": null,
            "_view_module": "@jupyter-widgets/base",
            "_view_module_version": "1.2.0",
            "_view_name": "LayoutView",
            "align_content": null,
            "align_items": null,
            "align_self": null,
            "border": null,
            "bottom": null,
            "display": null,
            "flex": null,
            "flex_flow": null,
            "grid_area": null,
            "grid_auto_columns": null,
            "grid_auto_flow": null,
            "grid_auto_rows": null,
            "grid_column": null,
            "grid_gap": null,
            "grid_row": null,
            "grid_template_areas": null,
            "grid_template_columns": null,
            "grid_template_rows": null,
            "height": null,
            "justify_content": null,
            "justify_items": null,
            "left": null,
            "margin": null,
            "max_height": null,
            "max_width": null,
            "min_height": null,
            "min_width": null,
            "object_fit": null,
            "object_position": null,
            "order": null,
            "overflow": null,
            "overflow_x": null,
            "overflow_y": null,
            "padding": null,
            "right": null,
            "top": null,
            "visibility": null,
            "width": null
          }
        },
        "cc14b4b192664d7b836adf7ef2fb96d7": {
          "model_module": "@jupyter-widgets/controls",
          "model_name": "ProgressStyleModel",
          "model_module_version": "1.5.0",
          "state": {
            "_model_module": "@jupyter-widgets/controls",
            "_model_module_version": "1.5.0",
            "_model_name": "ProgressStyleModel",
            "_view_count": null,
            "_view_module": "@jupyter-widgets/base",
            "_view_module_version": "1.2.0",
            "_view_name": "StyleView",
            "bar_color": null,
            "description_width": ""
          }
        },
        "3fa72983a72c40e8b23c648c88c40b6d": {
          "model_module": "@jupyter-widgets/base",
          "model_name": "LayoutModel",
          "model_module_version": "1.2.0",
          "state": {
            "_model_module": "@jupyter-widgets/base",
            "_model_module_version": "1.2.0",
            "_model_name": "LayoutModel",
            "_view_count": null,
            "_view_module": "@jupyter-widgets/base",
            "_view_module_version": "1.2.0",
            "_view_name": "LayoutView",
            "align_content": null,
            "align_items": null,
            "align_self": null,
            "border": null,
            "bottom": null,
            "display": null,
            "flex": null,
            "flex_flow": null,
            "grid_area": null,
            "grid_auto_columns": null,
            "grid_auto_flow": null,
            "grid_auto_rows": null,
            "grid_column": null,
            "grid_gap": null,
            "grid_row": null,
            "grid_template_areas": null,
            "grid_template_columns": null,
            "grid_template_rows": null,
            "height": null,
            "justify_content": null,
            "justify_items": null,
            "left": null,
            "margin": null,
            "max_height": null,
            "max_width": null,
            "min_height": null,
            "min_width": null,
            "object_fit": null,
            "object_position": null,
            "order": null,
            "overflow": null,
            "overflow_x": null,
            "overflow_y": null,
            "padding": null,
            "right": null,
            "top": null,
            "visibility": null,
            "width": null
          }
        },
        "6b5d33df077b428ca57b1105a2258a33": {
          "model_module": "@jupyter-widgets/controls",
          "model_name": "DescriptionStyleModel",
          "model_module_version": "1.5.0",
          "state": {
            "_model_module": "@jupyter-widgets/controls",
            "_model_module_version": "1.5.0",
            "_model_name": "DescriptionStyleModel",
            "_view_count": null,
            "_view_module": "@jupyter-widgets/base",
            "_view_module_version": "1.2.0",
            "_view_name": "StyleView",
            "description_width": ""
          }
        },
        "c13a8f9ff86f4b06adc1dfc016989854": {
          "model_module": "@jupyter-widgets/controls",
          "model_name": "HBoxModel",
          "model_module_version": "1.5.0",
          "state": {
            "_dom_classes": [],
            "_model_module": "@jupyter-widgets/controls",
            "_model_module_version": "1.5.0",
            "_model_name": "HBoxModel",
            "_view_count": null,
            "_view_module": "@jupyter-widgets/controls",
            "_view_module_version": "1.5.0",
            "_view_name": "HBoxView",
            "box_style": "",
            "children": [
              "IPY_MODEL_ebffe0fc7c0f4bcbaefb8d638255abd9",
              "IPY_MODEL_d2f89421ffb24b06a4a05c815ff7bc94",
              "IPY_MODEL_e95a76e1ffe1474e95b2570c317aae5d"
            ],
            "layout": "IPY_MODEL_919b14ed46b34f8dbe564289adb9cb5a"
          }
        },
        "ebffe0fc7c0f4bcbaefb8d638255abd9": {
          "model_module": "@jupyter-widgets/controls",
          "model_name": "HTMLModel",
          "model_module_version": "1.5.0",
          "state": {
            "_dom_classes": [],
            "_model_module": "@jupyter-widgets/controls",
            "_model_module_version": "1.5.0",
            "_model_name": "HTMLModel",
            "_view_count": null,
            "_view_module": "@jupyter-widgets/controls",
            "_view_module_version": "1.5.0",
            "_view_name": "HTMLView",
            "description": "",
            "description_tooltip": null,
            "layout": "IPY_MODEL_8f362c64142d40d6af10d40d698a897d",
            "placeholder": "​",
            "style": "IPY_MODEL_51f61d741a3349d5b0a4fcc49d7d5751",
            "value": "config.json: 100%"
          }
        },
        "d2f89421ffb24b06a4a05c815ff7bc94": {
          "model_module": "@jupyter-widgets/controls",
          "model_name": "FloatProgressModel",
          "model_module_version": "1.5.0",
          "state": {
            "_dom_classes": [],
            "_model_module": "@jupyter-widgets/controls",
            "_model_module_version": "1.5.0",
            "_model_name": "FloatProgressModel",
            "_view_count": null,
            "_view_module": "@jupyter-widgets/controls",
            "_view_module_version": "1.5.0",
            "_view_name": "ProgressView",
            "bar_style": "success",
            "description": "",
            "description_tooltip": null,
            "layout": "IPY_MODEL_5514bf38d2ac477c8b8903c2f0091730",
            "max": 665,
            "min": 0,
            "orientation": "horizontal",
            "style": "IPY_MODEL_14b956bdfe344b5180d6b820aa756976",
            "value": 665
          }
        },
        "e95a76e1ffe1474e95b2570c317aae5d": {
          "model_module": "@jupyter-widgets/controls",
          "model_name": "HTMLModel",
          "model_module_version": "1.5.0",
          "state": {
            "_dom_classes": [],
            "_model_module": "@jupyter-widgets/controls",
            "_model_module_version": "1.5.0",
            "_model_name": "HTMLModel",
            "_view_count": null,
            "_view_module": "@jupyter-widgets/controls",
            "_view_module_version": "1.5.0",
            "_view_name": "HTMLView",
            "description": "",
            "description_tooltip": null,
            "layout": "IPY_MODEL_202ae5a2e5a74799a8c90fd4899419e3",
            "placeholder": "​",
            "style": "IPY_MODEL_1b569de99d7644ca9786908c05dbafc4",
            "value": " 665/665 [00:00&lt;00:00, 20.5kB/s]"
          }
        },
        "919b14ed46b34f8dbe564289adb9cb5a": {
          "model_module": "@jupyter-widgets/base",
          "model_name": "LayoutModel",
          "model_module_version": "1.2.0",
          "state": {
            "_model_module": "@jupyter-widgets/base",
            "_model_module_version": "1.2.0",
            "_model_name": "LayoutModel",
            "_view_count": null,
            "_view_module": "@jupyter-widgets/base",
            "_view_module_version": "1.2.0",
            "_view_name": "LayoutView",
            "align_content": null,
            "align_items": null,
            "align_self": null,
            "border": null,
            "bottom": null,
            "display": null,
            "flex": null,
            "flex_flow": null,
            "grid_area": null,
            "grid_auto_columns": null,
            "grid_auto_flow": null,
            "grid_auto_rows": null,
            "grid_column": null,
            "grid_gap": null,
            "grid_row": null,
            "grid_template_areas": null,
            "grid_template_columns": null,
            "grid_template_rows": null,
            "height": null,
            "justify_content": null,
            "justify_items": null,
            "left": null,
            "margin": null,
            "max_height": null,
            "max_width": null,
            "min_height": null,
            "min_width": null,
            "object_fit": null,
            "object_position": null,
            "order": null,
            "overflow": null,
            "overflow_x": null,
            "overflow_y": null,
            "padding": null,
            "right": null,
            "top": null,
            "visibility": null,
            "width": null
          }
        },
        "8f362c64142d40d6af10d40d698a897d": {
          "model_module": "@jupyter-widgets/base",
          "model_name": "LayoutModel",
          "model_module_version": "1.2.0",
          "state": {
            "_model_module": "@jupyter-widgets/base",
            "_model_module_version": "1.2.0",
            "_model_name": "LayoutModel",
            "_view_count": null,
            "_view_module": "@jupyter-widgets/base",
            "_view_module_version": "1.2.0",
            "_view_name": "LayoutView",
            "align_content": null,
            "align_items": null,
            "align_self": null,
            "border": null,
            "bottom": null,
            "display": null,
            "flex": null,
            "flex_flow": null,
            "grid_area": null,
            "grid_auto_columns": null,
            "grid_auto_flow": null,
            "grid_auto_rows": null,
            "grid_column": null,
            "grid_gap": null,
            "grid_row": null,
            "grid_template_areas": null,
            "grid_template_columns": null,
            "grid_template_rows": null,
            "height": null,
            "justify_content": null,
            "justify_items": null,
            "left": null,
            "margin": null,
            "max_height": null,
            "max_width": null,
            "min_height": null,
            "min_width": null,
            "object_fit": null,
            "object_position": null,
            "order": null,
            "overflow": null,
            "overflow_x": null,
            "overflow_y": null,
            "padding": null,
            "right": null,
            "top": null,
            "visibility": null,
            "width": null
          }
        },
        "51f61d741a3349d5b0a4fcc49d7d5751": {
          "model_module": "@jupyter-widgets/controls",
          "model_name": "DescriptionStyleModel",
          "model_module_version": "1.5.0",
          "state": {
            "_model_module": "@jupyter-widgets/controls",
            "_model_module_version": "1.5.0",
            "_model_name": "DescriptionStyleModel",
            "_view_count": null,
            "_view_module": "@jupyter-widgets/base",
            "_view_module_version": "1.2.0",
            "_view_name": "StyleView",
            "description_width": ""
          }
        },
        "5514bf38d2ac477c8b8903c2f0091730": {
          "model_module": "@jupyter-widgets/base",
          "model_name": "LayoutModel",
          "model_module_version": "1.2.0",
          "state": {
            "_model_module": "@jupyter-widgets/base",
            "_model_module_version": "1.2.0",
            "_model_name": "LayoutModel",
            "_view_count": null,
            "_view_module": "@jupyter-widgets/base",
            "_view_module_version": "1.2.0",
            "_view_name": "LayoutView",
            "align_content": null,
            "align_items": null,
            "align_self": null,
            "border": null,
            "bottom": null,
            "display": null,
            "flex": null,
            "flex_flow": null,
            "grid_area": null,
            "grid_auto_columns": null,
            "grid_auto_flow": null,
            "grid_auto_rows": null,
            "grid_column": null,
            "grid_gap": null,
            "grid_row": null,
            "grid_template_areas": null,
            "grid_template_columns": null,
            "grid_template_rows": null,
            "height": null,
            "justify_content": null,
            "justify_items": null,
            "left": null,
            "margin": null,
            "max_height": null,
            "max_width": null,
            "min_height": null,
            "min_width": null,
            "object_fit": null,
            "object_position": null,
            "order": null,
            "overflow": null,
            "overflow_x": null,
            "overflow_y": null,
            "padding": null,
            "right": null,
            "top": null,
            "visibility": null,
            "width": null
          }
        },
        "14b956bdfe344b5180d6b820aa756976": {
          "model_module": "@jupyter-widgets/controls",
          "model_name": "ProgressStyleModel",
          "model_module_version": "1.5.0",
          "state": {
            "_model_module": "@jupyter-widgets/controls",
            "_model_module_version": "1.5.0",
            "_model_name": "ProgressStyleModel",
            "_view_count": null,
            "_view_module": "@jupyter-widgets/base",
            "_view_module_version": "1.2.0",
            "_view_name": "StyleView",
            "bar_color": null,
            "description_width": ""
          }
        },
        "202ae5a2e5a74799a8c90fd4899419e3": {
          "model_module": "@jupyter-widgets/base",
          "model_name": "LayoutModel",
          "model_module_version": "1.2.0",
          "state": {
            "_model_module": "@jupyter-widgets/base",
            "_model_module_version": "1.2.0",
            "_model_name": "LayoutModel",
            "_view_count": null,
            "_view_module": "@jupyter-widgets/base",
            "_view_module_version": "1.2.0",
            "_view_name": "LayoutView",
            "align_content": null,
            "align_items": null,
            "align_self": null,
            "border": null,
            "bottom": null,
            "display": null,
            "flex": null,
            "flex_flow": null,
            "grid_area": null,
            "grid_auto_columns": null,
            "grid_auto_flow": null,
            "grid_auto_rows": null,
            "grid_column": null,
            "grid_gap": null,
            "grid_row": null,
            "grid_template_areas": null,
            "grid_template_columns": null,
            "grid_template_rows": null,
            "height": null,
            "justify_content": null,
            "justify_items": null,
            "left": null,
            "margin": null,
            "max_height": null,
            "max_width": null,
            "min_height": null,
            "min_width": null,
            "object_fit": null,
            "object_position": null,
            "order": null,
            "overflow": null,
            "overflow_x": null,
            "overflow_y": null,
            "padding": null,
            "right": null,
            "top": null,
            "visibility": null,
            "width": null
          }
        },
        "1b569de99d7644ca9786908c05dbafc4": {
          "model_module": "@jupyter-widgets/controls",
          "model_name": "DescriptionStyleModel",
          "model_module_version": "1.5.0",
          "state": {
            "_model_module": "@jupyter-widgets/controls",
            "_model_module_version": "1.5.0",
            "_model_name": "DescriptionStyleModel",
            "_view_count": null,
            "_view_module": "@jupyter-widgets/base",
            "_view_module_version": "1.2.0",
            "_view_name": "StyleView",
            "description_width": ""
          }
        }
      }
    }
  },
  "cells": [
    {
      "cell_type": "markdown",
      "source": [
        "text summarization techiniques using langchain"
      ],
      "metadata": {
        "id": "gjXfOlgfAmim"
      }
    },
    {
      "cell_type": "code",
      "source": [
        "!pip install langchain_groq"
      ],
      "metadata": {
        "colab": {
          "base_uri": "https://localhost:8080/"
        },
        "id": "Uhw5b3jHyAG9",
        "outputId": "d2d67599-6724-413c-a2ee-802cd48e5e14"
      },
      "execution_count": null,
      "outputs": [
        {
          "output_type": "stream",
          "name": "stdout",
          "text": [
            "Collecting langchain_groq\n",
            "  Downloading langchain_groq-0.2.1-py3-none-any.whl.metadata (2.9 kB)\n",
            "Collecting groq<1,>=0.4.1 (from langchain_groq)\n",
            "  Downloading groq-0.12.0-py3-none-any.whl.metadata (13 kB)\n",
            "Requirement already satisfied: langchain-core<0.4.0,>=0.3.15 in /usr/local/lib/python3.10/dist-packages (from langchain_groq) (0.3.17)\n",
            "Requirement already satisfied: anyio<5,>=3.5.0 in /usr/local/lib/python3.10/dist-packages (from groq<1,>=0.4.1->langchain_groq) (3.7.1)\n",
            "Requirement already satisfied: distro<2,>=1.7.0 in /usr/local/lib/python3.10/dist-packages (from groq<1,>=0.4.1->langchain_groq) (1.9.0)\n",
            "Requirement already satisfied: httpx<1,>=0.23.0 in /usr/local/lib/python3.10/dist-packages (from groq<1,>=0.4.1->langchain_groq) (0.27.2)\n",
            "Requirement already satisfied: pydantic<3,>=1.9.0 in /usr/local/lib/python3.10/dist-packages (from groq<1,>=0.4.1->langchain_groq) (2.9.2)\n",
            "Requirement already satisfied: sniffio in /usr/local/lib/python3.10/dist-packages (from groq<1,>=0.4.1->langchain_groq) (1.3.1)\n",
            "Requirement already satisfied: typing-extensions<5,>=4.7 in /usr/local/lib/python3.10/dist-packages (from groq<1,>=0.4.1->langchain_groq) (4.12.2)\n",
            "Requirement already satisfied: PyYAML>=5.3 in /usr/local/lib/python3.10/dist-packages (from langchain-core<0.4.0,>=0.3.15->langchain_groq) (6.0.2)\n",
            "Requirement already satisfied: jsonpatch<2.0,>=1.33 in /usr/local/lib/python3.10/dist-packages (from langchain-core<0.4.0,>=0.3.15->langchain_groq) (1.33)\n",
            "Requirement already satisfied: langsmith<0.2.0,>=0.1.125 in /usr/local/lib/python3.10/dist-packages (from langchain-core<0.4.0,>=0.3.15->langchain_groq) (0.1.142)\n",
            "Requirement already satisfied: packaging<25,>=23.2 in /usr/local/lib/python3.10/dist-packages (from langchain-core<0.4.0,>=0.3.15->langchain_groq) (24.2)\n",
            "Requirement already satisfied: tenacity!=8.4.0,<10.0.0,>=8.1.0 in /usr/local/lib/python3.10/dist-packages (from langchain-core<0.4.0,>=0.3.15->langchain_groq) (9.0.0)\n",
            "Requirement already satisfied: idna>=2.8 in /usr/local/lib/python3.10/dist-packages (from anyio<5,>=3.5.0->groq<1,>=0.4.1->langchain_groq) (3.10)\n",
            "Requirement already satisfied: exceptiongroup in /usr/local/lib/python3.10/dist-packages (from anyio<5,>=3.5.0->groq<1,>=0.4.1->langchain_groq) (1.2.2)\n",
            "Requirement already satisfied: certifi in /usr/local/lib/python3.10/dist-packages (from httpx<1,>=0.23.0->groq<1,>=0.4.1->langchain_groq) (2024.8.30)\n",
            "Requirement already satisfied: httpcore==1.* in /usr/local/lib/python3.10/dist-packages (from httpx<1,>=0.23.0->groq<1,>=0.4.1->langchain_groq) (1.0.6)\n",
            "Requirement already satisfied: h11<0.15,>=0.13 in /usr/local/lib/python3.10/dist-packages (from httpcore==1.*->httpx<1,>=0.23.0->groq<1,>=0.4.1->langchain_groq) (0.14.0)\n",
            "Requirement already satisfied: jsonpointer>=1.9 in /usr/local/lib/python3.10/dist-packages (from jsonpatch<2.0,>=1.33->langchain-core<0.4.0,>=0.3.15->langchain_groq) (3.0.0)\n",
            "Requirement already satisfied: orjson<4.0.0,>=3.9.14 in /usr/local/lib/python3.10/dist-packages (from langsmith<0.2.0,>=0.1.125->langchain-core<0.4.0,>=0.3.15->langchain_groq) (3.10.11)\n",
            "Requirement already satisfied: requests<3,>=2 in /usr/local/lib/python3.10/dist-packages (from langsmith<0.2.0,>=0.1.125->langchain-core<0.4.0,>=0.3.15->langchain_groq) (2.32.3)\n",
            "Requirement already satisfied: requests-toolbelt<2.0.0,>=1.0.0 in /usr/local/lib/python3.10/dist-packages (from langsmith<0.2.0,>=0.1.125->langchain-core<0.4.0,>=0.3.15->langchain_groq) (1.0.0)\n",
            "Requirement already satisfied: annotated-types>=0.6.0 in /usr/local/lib/python3.10/dist-packages (from pydantic<3,>=1.9.0->groq<1,>=0.4.1->langchain_groq) (0.7.0)\n",
            "Requirement already satisfied: pydantic-core==2.23.4 in /usr/local/lib/python3.10/dist-packages (from pydantic<3,>=1.9.0->groq<1,>=0.4.1->langchain_groq) (2.23.4)\n",
            "Requirement already satisfied: charset-normalizer<4,>=2 in /usr/local/lib/python3.10/dist-packages (from requests<3,>=2->langsmith<0.2.0,>=0.1.125->langchain-core<0.4.0,>=0.3.15->langchain_groq) (3.4.0)\n",
            "Requirement already satisfied: urllib3<3,>=1.21.1 in /usr/local/lib/python3.10/dist-packages (from requests<3,>=2->langsmith<0.2.0,>=0.1.125->langchain-core<0.4.0,>=0.3.15->langchain_groq) (2.2.3)\n",
            "Downloading langchain_groq-0.2.1-py3-none-any.whl (14 kB)\n",
            "Downloading groq-0.12.0-py3-none-any.whl (108 kB)\n",
            "\u001b[2K   \u001b[90m━━━━━━━━━━━━━━━━━━━━━━━━━━━━━━━━━━━━━━━━\u001b[0m \u001b[32m108.9/108.9 kB\u001b[0m \u001b[31m3.2 MB/s\u001b[0m eta \u001b[36m0:00:00\u001b[0m\n",
            "\u001b[?25hInstalling collected packages: groq, langchain_groq\n",
            "Successfully installed groq-0.12.0 langchain_groq-0.2.1\n"
          ]
        }
      ]
    },
    {
      "cell_type": "code",
      "execution_count": null,
      "metadata": {
        "id": "-dc60fezwJQa"
      },
      "outputs": [],
      "source": [
        "from google.colab import userdata\n",
        "groq_api_key = userdata.get('groq_api_key')"
      ]
    },
    {
      "cell_type": "code",
      "source": [
        "from langchain_groq import ChatGroq"
      ],
      "metadata": {
        "id": "2dC11AkCx7VE"
      },
      "execution_count": null,
      "outputs": []
    },
    {
      "cell_type": "code",
      "source": [
        "from langchain.schema import HumanMessage, SystemMessage, AIMessage"
      ],
      "metadata": {
        "id": "tjq-vxWSyy8C"
      },
      "execution_count": null,
      "outputs": []
    },
    {
      "cell_type": "code",
      "source": [
        "texto = \"\"\"\n",
        "Era uma vez, em uma pequena aldeia cercada por densas florestas e montanhas enevoadas, uma menina chamada Elisa. Ela vivia com sua madrasta em uma casinha de madeira à beira da floresta. A madrasta, uma mulher fria e cruel, tratava Elisa como uma serva. Todos os dias, ela a obrigava a limpar a casa, cuidar do jardim e realizar as tarefas mais difíceis, enquanto ela descansava.\n",
        "\n",
        "Apesar de toda a crueldade, Elisa tinha um coração puro e generoso. Ela amava os animais da floresta e, sempre que podia, ia até a borda da mata para conversar com os pássaros, esquilos e raposas. Seu único desejo era um dia se libertar da opressão da madrasta e viver feliz.\n",
        "\n",
        "Certo dia, a madrasta ordenou a Elisa uma tarefa impossível: “Vá até a floresta e traga-me uma flor azul que só floresce no topo da Montanha Sombria. Se não voltar até o pôr do sol, não terá mais um lar.”\n",
        "\n",
        "Elisa, sabendo que a missão era arriscada, mas sem outra escolha, partiu em direção à Montanha Sombria. As árvores se tornavam mais densas e escuras à medida que ela avançava, e um estranho silêncio tomava conta da floresta. Depois de horas de caminhada, ela chegou à base da montanha, onde uma velha árvore retorcida bloqueava o caminho.\n",
        "\n",
        "Sentada embaixo da árvore, estava uma velha senhora com um manto cinza e um sorriso enigmático. “Aonde vai, menina?” perguntou a velha com uma voz rouca.\n",
        "\n",
        "“Estou à procura da flor azul que floresce no topo da montanha. Minha madrasta me mandou buscá-la, e se eu não voltar antes do pôr do sol, perderei meu lar”, respondeu Elisa.\n",
        "\n",
        "A velha a olhou com olhos profundos e disse: “A subida é perigosa e a flor é protegida por antigos espíritos da montanha. Mas você tem um coração puro, e isso pode ajudá-la. Aqui está algo que poderá ser útil.” A velha senhora entregou a Elisa um pequeno espelho prateado.\n",
        "\n",
        "“Este espelho refletirá a verdade. Use-o com sabedoria.” Elisa, agradecida, aceitou o presente e continuou sua jornada.\n",
        "\n",
        "A subida foi árdua. O caminho era estreito e cheio de pedras afiadas. À medida que se aproximava do topo, o vento soprava com mais força, e as sombras das árvores pareciam se mover sozinhas. Quando finalmente chegou ao topo, encontrou a flor azul crescendo no meio de uma clareira iluminada pela lua.\n",
        "\n",
        "Mas, antes que pudesse colhê-la, três sombras surgiram da escuridão. Eram os espíritos da montanha, figuras altas e esqueléticas, com olhos brilhando como carvões.\n",
        "\n",
        "“Quem ousa tocar nossa flor?” disse um dos espíritos, com uma voz que parecia o sussurro do vento.\n",
        "\n",
        "Elisa, tremendo de medo, lembrou-se do espelho que a velha senhora lhe dera. Ela o ergueu na direção dos espíritos, e, para sua surpresa, eles se afastaram ao ver seu reflexo.\n",
        "\n",
        "“Este espelho mostra a verdade”, disse Elisa com firmeza. “E a verdade é que eu vim buscar a flor por necessidade, não por ganância. Meu coração é puro e não quero causar mal algum.”\n",
        "\n",
        "Os espíritos, vendo sua sinceridade, acalmaram-se e desapareceram nas sombras. Com o caminho livre, Elisa colheu a flor azul e começou sua descida.\n",
        "\n",
        "Ao retornar para a aldeia, o sol já estava se pondo. Sua madrasta, esperando-a com um sorriso malicioso, não acreditou que a menina pudesse ter completado a tarefa. Mas, quando viu a flor azul nas mãos de Elisa, seu rosto se contorceu de raiva.\n",
        "\n",
        "No momento em que a madrasta tentou arrancar a flor das mãos de Elisa, o espelho prateado caiu de sua bolsa. A madrasta, ao olhar para o espelho, viu seu verdadeiro reflexo: uma mulher amarga e egoísta, que sempre buscara apenas o próprio benefício. Incapaz de suportar a verdade sobre si mesma, a madrasta fugiu para a floresta e nunca mais foi vista.\n",
        "\n",
        "Com a madrasta desaparecida, Elisa pôde viver em paz. Ela cuidou da casinha à beira da floresta, onde os animais continuaram a visitá-la, e sempre lembrava das palavras da velha senhora: “A verdade é uma arma poderosa.”\n",
        "\n",
        "E assim, Elisa viveu feliz, livre da opressão, sempre com o espelho prateado ao seu lado, lembrando-a do poder que existe na verdade e na pureza de um coração bom.\n",
        "\"\"\""
      ],
      "metadata": {
        "id": "xLAZrGkCzAL9"
      },
      "execution_count": null,
      "outputs": []
    },
    {
      "cell_type": "code",
      "source": [
        "chat_messages=[\n",
        "    SystemMessage(content=\"Você é um assistente com experiência em resumir histórias infantis.\"),\n",
        "    HumanMessage(content=f\"Por favor faça um resumo pequeno e conciso do seguinte texto:\\n TEXTO: {texto}\")\n",
        "]\n",
        "\n",
        "llm=ChatGroq(groq_api_key=groq_api_key, model_name=\"llama3-groq-70b-8192-tool-use-preview\")"
      ],
      "metadata": {
        "id": "uMpKP23rz8N4"
      },
      "execution_count": null,
      "outputs": []
    },
    {
      "cell_type": "code",
      "source": [
        "llm.get_num_tokens(texto)"
      ],
      "metadata": {
        "colab": {
          "base_uri": "https://localhost:8080/",
          "height": 336,
          "referenced_widgets": [
            "13220646783c4178be093b17fca9daa9",
            "0eaa567da92e4cf4a1a7e0c24870ba8d",
            "e146d6907f174a5e8520ff878a8dab39",
            "214477f7065e49a3aba8cd01ee61e2f0",
            "5640289ad2c241e9827ac7463d0efe9b",
            "c3457b7e607a4f49a66fd3dc919f51ac",
            "75c3f7df25e9465aa9a6bd7823487613",
            "28ccf6a80d2f4eb9bd3c00b19638d069",
            "3a2df2bbaf244553a493babc75f457ef",
            "28224bff77f842d5b0c8169c93f0181e",
            "84d88f2303234c8b9685220ed4baf6d4",
            "9c8c43f15fda42e9b9920750290feec8",
            "7f76fd3d485243e9abd7c83698be095d",
            "bf7dcf03cafd48f1b445d98010ecd42b",
            "2dd60438d5444862a2e59033b2179cc4",
            "293ca5b205ca47e390d6bfd5c15e9342",
            "8c32657eaad34063b034e4c6d0174c17",
            "2c3971dbbe3741938631eda2c71f9852",
            "fcc94343648c42bba8cb57194dceab88",
            "7102685617ed4a918a399266372efa23",
            "274bd599396b428c9f265c0c61fecb15",
            "1a25d28004f94a12a43b3e6050636622",
            "ab3dbc32c7414f4a9777944cd5d4f721",
            "fd1b1ce12560467485f3f852a78b03c5",
            "4562987d69d04bd1aee0ffd175ce1afb",
            "d50d3d17cc33412698fb41201f7ad60b",
            "9188add44eeb45438ee587c381a88e47",
            "fb673a740a5c49648b043adeea80cbd9",
            "012f52bdc17143d399c62ba312df08b5",
            "77581ebd630242468f65e7719df1fc4f",
            "4e05c6bf81f04be6a37681f8dbcc85ef",
            "eba23cefa5464fb49655dc4de8778c71",
            "71d448ca07634e0c98759162466ffcaa",
            "f91a8455ce674ef59d92e072a2b3c076",
            "7d7eeed0b9fd41cd9da1f4c6f711c783",
            "b00849ac7897411588a04818a9a30a73",
            "69e63f75ce734ffd9a160474214e9744",
            "d6f72f8d295d42359488d6f67fdc69e6",
            "3a61bdaa68a742edbece6dfde331be66",
            "cd9b37de576b48d59d6d626c6115f1a2",
            "8cef42f9c78f46b1a7f1bfc9c1af81cd",
            "cc14b4b192664d7b836adf7ef2fb96d7",
            "3fa72983a72c40e8b23c648c88c40b6d",
            "6b5d33df077b428ca57b1105a2258a33",
            "c13a8f9ff86f4b06adc1dfc016989854",
            "ebffe0fc7c0f4bcbaefb8d638255abd9",
            "d2f89421ffb24b06a4a05c815ff7bc94",
            "e95a76e1ffe1474e95b2570c317aae5d",
            "919b14ed46b34f8dbe564289adb9cb5a",
            "8f362c64142d40d6af10d40d698a897d",
            "51f61d741a3349d5b0a4fcc49d7d5751",
            "5514bf38d2ac477c8b8903c2f0091730",
            "14b956bdfe344b5180d6b820aa756976",
            "202ae5a2e5a74799a8c90fd4899419e3",
            "1b569de99d7644ca9786908c05dbafc4"
          ]
        },
        "id": "KDQ2UloG1ewi",
        "outputId": "d107112f-a751-4eae-da7e-4ce0703c12ba"
      },
      "execution_count": null,
      "outputs": [
        {
          "output_type": "stream",
          "name": "stderr",
          "text": [
            "/usr/local/lib/python3.10/dist-packages/huggingface_hub/utils/_auth.py:94: UserWarning: \n",
            "The secret `HF_TOKEN` does not exist in your Colab secrets.\n",
            "To authenticate with the Hugging Face Hub, create a token in your settings tab (https://huggingface.co/settings/tokens), set it as secret in your Google Colab and restart your session.\n",
            "You will be able to reuse this secret in all of your notebooks.\n",
            "Please note that authentication is recommended but still optional to access public models or datasets.\n",
            "  warnings.warn(\n"
          ]
        },
        {
          "output_type": "display_data",
          "data": {
            "text/plain": [
              "tokenizer_config.json:   0%|          | 0.00/26.0 [00:00<?, ?B/s]"
            ],
            "application/vnd.jupyter.widget-view+json": {
              "version_major": 2,
              "version_minor": 0,
              "model_id": "13220646783c4178be093b17fca9daa9"
            }
          },
          "metadata": {}
        },
        {
          "output_type": "display_data",
          "data": {
            "text/plain": [
              "vocab.json:   0%|          | 0.00/1.04M [00:00<?, ?B/s]"
            ],
            "application/vnd.jupyter.widget-view+json": {
              "version_major": 2,
              "version_minor": 0,
              "model_id": "9c8c43f15fda42e9b9920750290feec8"
            }
          },
          "metadata": {}
        },
        {
          "output_type": "display_data",
          "data": {
            "text/plain": [
              "merges.txt:   0%|          | 0.00/456k [00:00<?, ?B/s]"
            ],
            "application/vnd.jupyter.widget-view+json": {
              "version_major": 2,
              "version_minor": 0,
              "model_id": "ab3dbc32c7414f4a9777944cd5d4f721"
            }
          },
          "metadata": {}
        },
        {
          "output_type": "display_data",
          "data": {
            "text/plain": [
              "tokenizer.json:   0%|          | 0.00/1.36M [00:00<?, ?B/s]"
            ],
            "application/vnd.jupyter.widget-view+json": {
              "version_major": 2,
              "version_minor": 0,
              "model_id": "f91a8455ce674ef59d92e072a2b3c076"
            }
          },
          "metadata": {}
        },
        {
          "output_type": "display_data",
          "data": {
            "text/plain": [
              "config.json:   0%|          | 0.00/665 [00:00<?, ?B/s]"
            ],
            "application/vnd.jupyter.widget-view+json": {
              "version_major": 2,
              "version_minor": 0,
              "model_id": "c13a8f9ff86f4b06adc1dfc016989854"
            }
          },
          "metadata": {}
        },
        {
          "output_type": "stream",
          "name": "stderr",
          "text": [
            "Token indices sequence length is longer than the specified maximum sequence length for this model (1625 > 1024). Running this sequence through the model will result in indexing errors\n"
          ]
        },
        {
          "output_type": "execute_result",
          "data": {
            "text/plain": [
              "1625"
            ]
          },
          "metadata": {},
          "execution_count": 7
        }
      ]
    },
    {
      "cell_type": "code",
      "source": [
        "llm(chat_messages)"
      ],
      "metadata": {
        "colab": {
          "base_uri": "https://localhost:8080/"
        },
        "id": "1vIMNdab--fI",
        "outputId": "0b40f744-81c8-445c-97ca-28fcc8efdaa8"
      },
      "execution_count": null,
      "outputs": [
        {
          "output_type": "stream",
          "name": "stderr",
          "text": [
            "<ipython-input-8-ea7da5297258>:1: LangChainDeprecationWarning: The method `BaseChatModel.__call__` was deprecated in langchain-core 0.1.7 and will be removed in 1.0. Use :meth:`~invoke` instead.\n",
            "  llm(chat_messages)\n"
          ]
        },
        {
          "output_type": "execute_result",
          "data": {
            "text/plain": [
              "AIMessage(content='Uma menina chamada Elisa, que vive com sua madrasta em uma aldeia, é mandada buscar uma flor azul no topo da Montanha Sombria. Com a ajuda de um espelho prateado dado por uma velha senhora, Elisa supera obstáculos e encontra a flor. Ao retornar, a madrasta tenta roubar a flor, mas o espelho revela sua verdadeira natureza egoísta, fazendo-a fugir. Elisa vive feliz, livre da opressão, com o espelho como lembrança do poder da verdade e da pureza de coração.', additional_kwargs={}, response_metadata={'token_usage': {'completion_tokens': 140, 'prompt_tokens': 1312, 'total_tokens': 1452, 'completion_time': 0.450971607, 'prompt_time': 0.123487527, 'queue_time': 0.001700243000000004, 'total_time': 0.574459134}, 'model_name': 'llama3-groq-70b-8192-tool-use-preview', 'system_fingerprint': 'fp_ee4b521143', 'finish_reason': 'stop', 'logprobs': None}, id='run-ae8ee82c-70e4-4a30-8496-c72e009e18bc-0', usage_metadata={'input_tokens': 1312, 'output_tokens': 140, 'total_tokens': 1452})"
            ]
          },
          "metadata": {},
          "execution_count": 8
        }
      ]
    },
    {
      "cell_type": "code",
      "source": [
        "llm(chat_messages).content"
      ],
      "metadata": {
        "colab": {
          "base_uri": "https://localhost:8080/",
          "height": 140
        },
        "id": "LC8P97ba16K3",
        "outputId": "9341a1a2-bfd5-4c20-a2c7-cfbaf5d4fc97"
      },
      "execution_count": null,
      "outputs": [
        {
          "output_type": "execute_result",
          "data": {
            "text/plain": [
              "'Uma menina chamada Elisa, que vivia com sua madrasta em uma aldeia, foi mandada buscar uma flor azul no topo da Montanha Sombria. Com a ajuda de um espelho prateado que refletia a verdade, Elisa conseguiu superar os espíritos da montanha e colher a flor. Ao voltar, a madrasta tentou tirar a flor de Elisa, mas ao olhar no espelho, viu seu verdadeiro reflexo e fugiu para a floresta. Elisa pôde viver em paz, cuidando da casa e dos animais da floresta, lembrando-se do poder da verdade e da pureza de um coração bom.'"
            ],
            "application/vnd.google.colaboratory.intrinsic+json": {
              "type": "string"
            }
          },
          "metadata": {},
          "execution_count": 9
        }
      ]
    },
    {
      "cell_type": "markdown",
      "source": [
        "prompt templates text summarization"
      ],
      "metadata": {
        "id": "jJy0gKC8Ad0C"
      }
    },
    {
      "cell_type": "code",
      "source": [
        "from langchain import PromptTemplate\n",
        "from langchain.chains import LLMChain"
      ],
      "metadata": {
        "id": "RAGBtiGPA3qp"
      },
      "execution_count": null,
      "outputs": []
    },
    {
      "cell_type": "code",
      "source": [
        "template=\"\"\"\n",
        "Escreva um resumo da seguinte história infantil:\n",
        "Texto: \"{texto}\"\n",
        "Traduza o resumo para {idioma}\n",
        "\"\"\"\n",
        "\n",
        "prompt=PromptTemplate(\n",
        "    input_variables=[\"texto\", \"idioma\"],\n",
        "    template=template\n",
        ")"
      ],
      "metadata": {
        "id": "-afROp5vBN8n"
      },
      "execution_count": null,
      "outputs": []
    },
    {
      "cell_type": "code",
      "source": [
        "prompt.format(texto=texto, idioma=\"inglês\")"
      ],
      "metadata": {
        "colab": {
          "base_uri": "https://localhost:8080/",
          "height": 244
        },
        "id": "74Ese_OCCuVZ",
        "outputId": "7669c42e-67b9-40e5-dd4f-3d0673c6f13d"
      },
      "execution_count": null,
      "outputs": [
        {
          "output_type": "execute_result",
          "data": {
            "text/plain": [
              "'\\nEscreva um resumo da seguinte história infantil:\\nTexto: \"\\nEra uma vez, em uma pequena aldeia cercada por densas florestas e montanhas enevoadas, uma menina chamada Elisa. Ela vivia com sua madrasta em uma casinha de madeira à beira da floresta. A madrasta, uma mulher fria e cruel, tratava Elisa como uma serva. Todos os dias, ela a obrigava a limpar a casa, cuidar do jardim e realizar as tarefas mais difíceis, enquanto ela descansava.\\n\\nApesar de toda a crueldade, Elisa tinha um coração puro e generoso. Ela amava os animais da floresta e, sempre que podia, ia até a borda da mata para conversar com os pássaros, esquilos e raposas. Seu único desejo era um dia se libertar da opressão da madrasta e viver feliz.\\n\\nCerto dia, a madrasta ordenou a Elisa uma tarefa impossível: “Vá até a floresta e traga-me uma flor azul que só floresce no topo da Montanha Sombria. Se não voltar até o pôr do sol, não terá mais um lar.”\\n\\nElisa, sabendo que a missão era arriscada, mas sem outra escolha, partiu em direção à Montanha Sombria. As árvores se tornavam mais densas e escuras à medida que ela avançava, e um estranho silêncio tomava conta da floresta. Depois de horas de caminhada, ela chegou à base da montanha, onde uma velha árvore retorcida bloqueava o caminho.\\n\\nSentada embaixo da árvore, estava uma velha senhora com um manto cinza e um sorriso enigmático. “Aonde vai, menina?” perguntou a velha com uma voz rouca.\\n\\n“Estou à procura da flor azul que floresce no topo da montanha. Minha madrasta me mandou buscá-la, e se eu não voltar antes do pôr do sol, perderei meu lar”, respondeu Elisa.\\n\\nA velha a olhou com olhos profundos e disse: “A subida é perigosa e a flor é protegida por antigos espíritos da montanha. Mas você tem um coração puro, e isso pode ajudá-la. Aqui está algo que poderá ser útil.” A velha senhora entregou a Elisa um pequeno espelho prateado.\\n\\n“Este espelho refletirá a verdade. Use-o com sabedoria.” Elisa, agradecida, aceitou o presente e continuou sua jornada.\\n\\nA subida foi árdua. O caminho era estreito e cheio de pedras afiadas. À medida que se aproximava do topo, o vento soprava com mais força, e as sombras das árvores pareciam se mover sozinhas. Quando finalmente chegou ao topo, encontrou a flor azul crescendo no meio de uma clareira iluminada pela lua.\\n\\nMas, antes que pudesse colhê-la, três sombras surgiram da escuridão. Eram os espíritos da montanha, figuras altas e esqueléticas, com olhos brilhando como carvões.\\n\\n“Quem ousa tocar nossa flor?” disse um dos espíritos, com uma voz que parecia o sussurro do vento.\\n\\nElisa, tremendo de medo, lembrou-se do espelho que a velha senhora lhe dera. Ela o ergueu na direção dos espíritos, e, para sua surpresa, eles se afastaram ao ver seu reflexo.\\n\\n“Este espelho mostra a verdade”, disse Elisa com firmeza. “E a verdade é que eu vim buscar a flor por necessidade, não por ganância. Meu coração é puro e não quero causar mal algum.”\\n\\nOs espíritos, vendo sua sinceridade, acalmaram-se e desapareceram nas sombras. Com o caminho livre, Elisa colheu a flor azul e começou sua descida.\\n\\nAo retornar para a aldeia, o sol já estava se pondo. Sua madrasta, esperando-a com um sorriso malicioso, não acreditou que a menina pudesse ter completado a tarefa. Mas, quando viu a flor azul nas mãos de Elisa, seu rosto se contorceu de raiva.\\n\\nNo momento em que a madrasta tentou arrancar a flor das mãos de Elisa, o espelho prateado caiu de sua bolsa. A madrasta, ao olhar para o espelho, viu seu verdadeiro reflexo: uma mulher amarga e egoísta, que sempre buscara apenas o próprio benefício. Incapaz de suportar a verdade sobre si mesma, a madrasta fugiu para a floresta e nunca mais foi vista.\\n\\nCom a madrasta desaparecida, Elisa pôde viver em paz. Ela cuidou da casinha à beira da floresta, onde os animais continuaram a visitá-la, e sempre lembrava das palavras da velha senhora: “A verdade é uma arma poderosa.”\\n\\nE assim, Elisa viveu feliz, livre da opressão, sempre com o espelho prateado ao seu lado, lembrando-a do poder que existe na verdade e na pureza de um coração bom.\\n\"\\nTraduza o resumo para inglês\\n'"
            ],
            "application/vnd.google.colaboratory.intrinsic+json": {
              "type": "string"
            }
          },
          "metadata": {},
          "execution_count": 12
        }
      ]
    },
    {
      "cell_type": "code",
      "source": [
        "prompt_completo=prompt.format(texto=texto, idioma=\"inglês\")"
      ],
      "metadata": {
        "id": "JkKyQOYBBxOB"
      },
      "execution_count": null,
      "outputs": []
    },
    {
      "cell_type": "code",
      "source": [
        "llm.get_num_tokens(prompt_completo)"
      ],
      "metadata": {
        "colab": {
          "base_uri": "https://localhost:8080/"
        },
        "id": "3Eu1cYuHCCvo",
        "outputId": "01e5c41c-5dad-48a3-d39b-f0a6253f8a5e"
      },
      "execution_count": null,
      "outputs": [
        {
          "output_type": "execute_result",
          "data": {
            "text/plain": [
              "1663"
            ]
          },
          "metadata": {},
          "execution_count": 14
        }
      ]
    },
    {
      "cell_type": "code",
      "source": [
        "llm_chain=LLMChain(llm=llm, prompt=prompt)\n",
        "resumo=llm_chain.run({\"texto\": texto, \"idioma\": \"inglês\"})"
      ],
      "metadata": {
        "colab": {
          "base_uri": "https://localhost:8080/"
        },
        "id": "8YowRy7WCwLb",
        "outputId": "b33c1590-60ba-4239-f2b2-194f4fcdbb98"
      },
      "execution_count": null,
      "outputs": [
        {
          "output_type": "stream",
          "name": "stderr",
          "text": [
            "<ipython-input-15-8b72de666b40>:1: LangChainDeprecationWarning: The class `LLMChain` was deprecated in LangChain 0.1.17 and will be removed in 1.0. Use :meth:`~RunnableSequence, e.g., `prompt | llm`` instead.\n",
            "  llm_chain=LLMChain(llm=llm, prompt=prompt)\n",
            "<ipython-input-15-8b72de666b40>:2: LangChainDeprecationWarning: The method `Chain.run` was deprecated in langchain 0.1.0 and will be removed in 1.0. Use :meth:`~invoke` instead.\n",
            "  resumo=llm_chain.run({\"texto\": texto, \"idioma\": \"inglês\"})\n"
          ]
        }
      ]
    },
    {
      "cell_type": "code",
      "source": [
        "resumo"
      ],
      "metadata": {
        "colab": {
          "base_uri": "https://localhost:8080/",
          "height": 244
        },
        "id": "ieWvZSQKDKFM",
        "outputId": "ed41e43e-b7aa-4d3b-89b2-09679e317914"
      },
      "execution_count": null,
      "outputs": [
        {
          "output_type": "execute_result",
          "data": {
            "text/plain": [
              "'Once upon a time, in a small village surrounded by dense forests and misty mountains, there lived a girl named Elisa. She lived with her stepmother in a wooden house on the edge of the forest. The stepmother, a cold and cruel woman, treated Elisa like a servant. Every day, she forced Elisa to clean the house, tend to the garden, and perform the hardest tasks, while she rested.\\n\\nDespite all the cruelty, Elisa had a pure and generous heart. She loved the animals of the forest and would often go to the edge of the woods to talk to the birds, squirrels, and foxes. Her only wish was to one day be free from her stepmother\\'s oppression and live happily.\\n\\nOne day, the stepmother ordered Elisa an impossible task: \"Go into the forest and bring me a blue flower that only blooms at the top of Shadow Mountain. If you don\\'t return by sunset, you\\'ll no longer have a home.\"\\n\\nElisa, knowing the mission was risky, but with no other choice, set out towards Shadow Mountain. The trees grew denser and darker as she walked, and a strange silence fell over the forest. After hours of walking, she reached the base of the mountain, where an old twisted tree blocked her path.\\n\\nSitting under the tree was an old lady with a gray cloak and an enigmatic smile. \"Where are you going, girl?\" asked the old lady in a hoarse voice.\\n\\n\"I\\'m looking for the blue flower that blooms at the top of the mountain. My stepmother sent me to find it, and if I don\\'t return before sunset, I\\'ll lose my home,\" replied Elisa.\\n\\nThe old lady looked at her with deep eyes and said, \"The climb is dangerous, and the flower is protected by ancient mountain spirits. But you have a pure heart, and that can help you. Here\\'s something that might be useful.\" The old lady handed Elisa a small silver mirror.\\n\\n\"This mirror reflects the truth. Use it wisely.\" Elisa, grateful, accepted the gift and continued her journey.\\n\\nThe climb was arduous. The path was narrow and full of sharp rocks. As she neared the top, the wind blew stronger, and the shadows of the trees seemed to move on their own. When she finally reached the top, she found the blue flower growing in the middle of a moonlit clearing.\\n\\nBut before she could pick it, three shadows emerged from the darkness. They were the mountain spirits, tall and skeletal figures with eyes glowing like embers.\\n\\n\"Who dares to touch our flower?\" said one of the spirits, with a voice that sounded like the whisper of the wind.\\n\\nElisa, trembling with fear, remembered the mirror the old lady had given her. She held it up towards the spirits, and to her surprise, they stepped back at the sight of their own reflections.\\n\\n\"This mirror shows the truth,\" Elisa said firmly. \"And the truth is that I came to fetch the flower out of necessity, not greed. My heart is pure, and I mean no harm.\"\\n\\nThe spirits, seeing her sincerity, calmed down and disappeared into the shadows. With the path clear, Elisa picked the blue flower and began her descent.\\n\\nWhen she returned to the village, the sun was already setting. Her stepmother, waiting for her with a malicious smile, didn\\'t believe she could have completed the task. But when she saw the blue flower in Elisa\\'s hands, her face twisted with anger.\\n\\nIn that moment, Elisa\\'s stepmother tried to snatch the flower from her hands, but the silver mirror fell from her pocket. The stepmother, seeing her true reflection in the mirror, was unable to bear the truth about herself: a bitter and selfish woman who only sought her own benefit. Unable to face the truth, the stepmother fled into the forest and was never seen again.\\n\\nWith her stepmother gone, Elisa was able to live in peace. She took care of the house on the edge of the forest, where the animals continued to visit her, and she always remembered the old lady\\'s words: \"Truth is a powerful weapon.\"\\n\\nAnd so, Elisa lived happily, free from oppression, always with the silver mirror by her side, reminding her of the power that lies in truth and the goodness of a kind heart.'"
            ],
            "application/vnd.google.colaboratory.intrinsic+json": {
              "type": "string"
            }
          },
          "metadata": {},
          "execution_count": 16
        }
      ]
    },
    {
      "cell_type": "markdown",
      "source": [
        "StuffDocumentationChain text summatization"
      ],
      "metadata": {
        "id": "uYBKEETODT-T"
      }
    },
    {
      "cell_type": "code",
      "source": [
        "!pip install PyPDF2"
      ],
      "metadata": {
        "colab": {
          "base_uri": "https://localhost:8080/"
        },
        "id": "3bYpDyDdDsSI",
        "outputId": "5ca1b886-c09c-4016-cf8d-268d55f70fe2"
      },
      "execution_count": null,
      "outputs": [
        {
          "output_type": "stream",
          "name": "stdout",
          "text": [
            "Collecting PyPDF2\n",
            "  Downloading pypdf2-3.0.1-py3-none-any.whl.metadata (6.8 kB)\n",
            "Downloading pypdf2-3.0.1-py3-none-any.whl (232 kB)\n",
            "\u001b[?25l   \u001b[90m━━━━━━━━━━━━━━━━━━━━━━━━━━━━━━━━━━━━━━━━\u001b[0m \u001b[32m0.0/232.6 kB\u001b[0m \u001b[31m?\u001b[0m eta \u001b[36m-:--:--\u001b[0m\r\u001b[2K   \u001b[91m━━━━━━━━━━━━━━━━━━━━━━━━\u001b[0m\u001b[91m╸\u001b[0m\u001b[90m━━━━━━━━━━━━━━━\u001b[0m \u001b[32m143.4/232.6 kB\u001b[0m \u001b[31m4.6 MB/s\u001b[0m eta \u001b[36m0:00:01\u001b[0m\r\u001b[2K   \u001b[90m━━━━━━━━━━━━━━━━━━━━━━━━━━━━━━━━━━━━━━━━\u001b[0m \u001b[32m232.6/232.6 kB\u001b[0m \u001b[31m4.4 MB/s\u001b[0m eta \u001b[36m0:00:00\u001b[0m\n",
            "\u001b[?25hInstalling collected packages: PyPDF2\n",
            "Successfully installed PyPDF2-3.0.1\n"
          ]
        }
      ]
    },
    {
      "cell_type": "code",
      "source": [
        "from PyPDF2 import PdfReader"
      ],
      "metadata": {
        "id": "16q-a9YoDlB6"
      },
      "execution_count": null,
      "outputs": []
    },
    {
      "cell_type": "code",
      "source": [
        "pdfreader=PdfReader(\"ArvoreB.pdf\")"
      ],
      "metadata": {
        "id": "5XDtb1dQDxFH"
      },
      "execution_count": null,
      "outputs": []
    },
    {
      "cell_type": "code",
      "source": [
        "from typing_extensions import Concatenate\n",
        "texto2=\"\"\n",
        "for i, pagina in enumerate(pdfreader.pages):\n",
        "  texto2+=pagina.extract_text()"
      ],
      "metadata": {
        "id": "JyNLO6R6i2n_"
      },
      "execution_count": null,
      "outputs": []
    },
    {
      "cell_type": "code",
      "source": [
        "texto2"
      ],
      "metadata": {
        "colab": {
          "base_uri": "https://localhost:8080/",
          "height": 244
        },
        "id": "KKI4UXCzjgs8",
        "outputId": "5616fcff-3738-42db-cc94-5f5cc0038753"
      },
      "execution_count": null,
      "outputs": [
        {
          "output_type": "execute_result",
          "data": {
            "text/plain": [
              "'Árvore BDeﬁnição de Árvores B 1. Conceito Geral de Árvores B    - Deﬁnição: Uma árvore B é uma estrutura de dados de árvore balanceada que mantém dados ordenados e permite a busca, inserção e exclusão de maneira eﬁciente, mesmo em grandes volumes de dados.\\n   - Utilização: Ideal para sistemas de banco de dados e sistemas de arquivos, pois minimiza o número de acessos ao disco.\\n   - Armazenamento de Dados: As informações satélites de cada chave estão armazenadas junto com a chave em cada nó. Em implementações práticas, pode-se utilizar apenas ponteiros para otimizar o armazenamento.\\n2. Estrutura de uma Árvore B+ (Variante)    - Deﬁnição: Variante da árvore B, onde as informações associadas a cada chave são armazenadas exclusivamente nas folhas.\\n   - Nós Internos: Contêm apenas chaves e ponteiros para nós ﬁlhos, maximizando o número de chaves em cada nó e aumentando a eﬁciência de buscas.\\n   - Exemplo Visual: Abaixo, um exemplo de árvore B e B+ para comparação. Em uma árvore B+, as folhas contêm dados adicionais:\\n3. Estrutura dos Nós em Árvores B    - Atributos de Cada Nó:\\n     1. x.n: Número de chaves presentes no nó `x`.\\n     2. x.chave1, x.chave2, ..., x.chavex.n: Chaves armazenadas no nó `x`, ordenadas em sequência crescente.\\n     3. x.folha: Indicador booleano (`VERDADE` ou `FALSO`) que deﬁne se o nó `x` é uma folha (sem ﬁlhos) ou um nó interno (com ﬁlhos).\\n   - Exemplo Visual:\\n   \\n4. Ponteiros e Separação de Faixas de Chaves    - Estrutura dos Ponteiros: Cada nó interno possui `x.n + 1` ponteiros para seus ﬁlhos. Isso signiﬁca que, se um nó tem `n` chaves, ele tem `n + 1` subárvores.\\nÁrvore B\\n   - Separação das Faixas: As chaves dentro de cada nó separam as faixas de valores que podem estar em cada subárvore.\\n   - Exemplo de Ordenação:\\n     - Se o nó `x` possui as chaves `[k1, k2, ..., kn]`, então:\\n       - Todos os valores na subárvore `c1` são menores que `k1`.\\n       - Valores em `c2` estão entre `k1` e `k2`, e assim por diante.\\n       - A subárvore `cn+1` contém valores maiores que `kn`.\\n5. Profundidade das Folhas    - Propriedade da Altura Uniforme: Todas as folhas em uma árvore B têm a mesma profundidade, o que deﬁne a altura `h` da árvore.\\n   - Impacto: Essa propriedade garante que o tempo de busca seja consistente em toda a árvore.\\n6. Limites para o Número de Chaves    - Parâmetro t (Grau Mínimo): Deﬁne os limites inferior e superior de chaves em cada nó.\\n     1. Mínimo de Chaves:\\n        - Todo nó (exceto a raiz) deve ter ao menos `t - 1` chaves.\\n        - A raiz deve ter ao menos uma chave se a árvore não estiver vazia.\\n     2. Máximo de Chaves:\\n        - Cada nó pode ter até `2t - 1` chaves, sendo considerado \"cheio\" quando atinge esse limite.\\n        - Um nó interno cheio terá até `2t` ﬁlhos.\\n   - Exemplo de Grau Mínimo `t = 2`:\\n     - Cada nó terá entre 1 e 3 chaves e poderá ter até 4 ﬁlhos.\\n     - Essa conﬁguração é conhecida como árvore 2-3-4.\\nÁrvore B\\nÁrvore BAltura de uma Árvore B 1. Introdução à Altura de uma Árvore B    - Impacto na Eﬁciência: A altura da árvore B é crucial, pois o número de acessos ao disco exigidos para a maioria das operações é proporcional à altura da árvore. Quanto menor a altura, menos acessos ao disco são necessários, o que torna a árvore mais eﬁciente.\\n   - Análise do Pior Caso: Vamos considerar o pior caso de altura em uma árvore B, o que nos ajuda a entender a eﬁciência dessa estrutura em situações limites.\\n2. Teorema: Altura de uma Árvore B    - Premissa: Dado `n ≥ 1`, para qualquer árvore B( T ) com `n` nós, altura `h` e grau mínimo `t ≥ 2`, podemos deﬁnir um limite inferior para a quantidade de nós presentes em diferentes profundidades da árvore.\\n   - Prova Baseada na Deﬁnição:\\n     - A raiz de uma árvore B não vazia possui no mínimo uma chave.\\n     - Todos os demais nós, exceto a raiz, contêm no mínimo `t - 1` chaves.\\n     - Desdobramento da Estrutura:\\n       - No nível 1 (profundidade 1), temos no mínimo 2 nós.\\n       - No nível 2 (profundidade 2), temos no mínimo `2t` nós.\\n       - No nível 3 (profundidade 3), temos no mínimo ` ` nós.\\n       - Esse padrão se repete até a profundidade `h`, onde temos pelo menos   nós.\\n   - Representação Visual:\\n     - Na Figura abaixo, ilustramos uma árvore B para o caso em que `h = 3`. A imagem ajuda a visualizar o crescimento exponencial do número de nós à medida que a profundidade aumenta.\\n2t22t(h−1)\\nÁrvore B3. Inequação para o Número Total de Chaves `n`    - Para calcular o número mínimo de chaves na árvore B, usamos a inequação:\\n \\n   - Interpretação da Fórmula:\\n     - A fórmula expressa que a quantidade mínima de nós depende da altura `h` e do grau mínimo `t`.\\n     - A partir desta inequação, podemos derivar a altura máxima `h` em função do número de chaves `n`.\\n4. Cálculo da Altura com Logaritmo    - Tomando Logaritmos: Para determinar a altura `h` em função de `n`, tomamos logaritmos de base `t` em ambos os lados da inequação:\\n  \\n   - Conclusão da Prova: Essa relação nos permite concluir que a altura `h` de uma árvore B cresce proporcionalmente a  .\\n5. Comparação com Árvores Rubro-Negras    - Altura de Árvores B vs. Árvores Rubro-Negras:\\n     - Tanto as árvores B quanto as árvores rubro-negras possuem altura proporcional a  .\\n     - No entanto, em uma árvore B, a base do logaritmo é `t`, que frequentemente é maior do que 2. Isso signiﬁca que a altura da árvore B será menor em comparação à de uma árvore rubro-negra com o mesmo número de chaves.\\n     - Vantagem da Base do Logaritmo: A altura menor implica em menos nós sendo examinados durante as operações, o que reduz a quantidade de acessos ao disco e melhora o desempenho em termos de I/O.\\n6. Resumo da Eﬁciência das Árvores B    - Acessos ao Disco Reduzidos: Devido à menor altura em comparação com outras árvores balanceadas, como as rubro-negras, as árvores B exigem menos acessos ao disco, tornando-se uma estrutura ideal para armazenamentos em disco.\\n   - Fator `lg t`: As árvores B economizam um fator de aproximadamente   em comparação com árvores rubro-negras, o que pode ser substancial em operações de banco de dados e sistemas de arquivos.\\nEsses tópicos mais detalhados, juntamente com as representações visuais, devem ajudar a esclarecer o conteúdo e apoiar sua explicação.th≤n+12\\nh≤logt(n+12)O(logt(n))O(log(n))\\nlog2(t)'"
            ],
            "application/vnd.google.colaboratory.intrinsic+json": {
              "type": "string"
            }
          },
          "metadata": {},
          "execution_count": 25
        }
      ]
    },
    {
      "cell_type": "code",
      "source": [
        "from langchain.docstore.document import Document\n",
        "docs=[Document(page_content=texto2)]"
      ],
      "metadata": {
        "id": "jQXv2k5KkRJ9"
      },
      "execution_count": null,
      "outputs": []
    },
    {
      "cell_type": "code",
      "source": [
        "from langchain.chains.summarize import load_summarize_chain"
      ],
      "metadata": {
        "id": "K6ILSJ0WlW5K"
      },
      "execution_count": null,
      "outputs": []
    },
    {
      "cell_type": "code",
      "source": [
        "template2=\"\"\"\n",
        "Escreva um resumo do seguinte conteúdo:\n",
        "Texto: \"{text}\"\n",
        "\"\"\"\n",
        "\n",
        "prompt2=PromptTemplate(\n",
        "    input_variables=[\"text\"],\n",
        "    template=template2\n",
        ")"
      ],
      "metadata": {
        "id": "oyfup9ZGl4U6"
      },
      "execution_count": null,
      "outputs": []
    },
    {
      "cell_type": "code",
      "source": [
        "chain=load_summarize_chain(\n",
        "    llm,\n",
        "    chain_type=\"stuff\",\n",
        "    prompt=prompt2,\n",
        "    verbose=False\n",
        ")\n",
        "resumo2=chain.run(docs)"
      ],
      "metadata": {
        "id": "KDInqWkYmFKI"
      },
      "execution_count": null,
      "outputs": []
    },
    {
      "cell_type": "code",
      "source": [
        "resumo2"
      ],
      "metadata": {
        "colab": {
          "base_uri": "https://localhost:8080/",
          "height": 122
        },
        "id": "fdBIJRQJobS0",
        "outputId": "0bac350e-a23c-4706-cffb-491e9b9dffb5"
      },
      "execution_count": null,
      "outputs": [
        {
          "output_type": "execute_result",
          "data": {
            "text/plain": [
              "'Resumo: A árvore B é uma estrutura de dados de árvore balanceada que ordena e armazena chaves de forma eficiente, ideal para sistemas de banco de dados e arquivos. A altura da árvore B é crucial para a eficiência, crescendo proporcionalmente a log(n), com menor altura em comparação às árvores rubro-negras. Isso reduz acessos ao disco, tornando-a mais eficiente em termos de I/O. A estrutura de árvore B+ é uma variante com informações satélites armazenadas exclusivamente nas folhas.'"
            ],
            "application/vnd.google.colaboratory.intrinsic+json": {
              "type": "string"
            }
          },
          "metadata": {},
          "execution_count": 51
        }
      ]
    },
    {
      "cell_type": "markdown",
      "source": [
        "summarizing large documents using map reduce"
      ],
      "metadata": {
        "id": "k0FpKpKdpH3p"
      }
    },
    {
      "cell_type": "code",
      "source": [
        "from langchain.text_splitter import RecursiveCharacterTextSplitter"
      ],
      "metadata": {
        "id": "FyLJAa1_ocXM"
      },
      "execution_count": null,
      "outputs": []
    },
    {
      "cell_type": "code",
      "source": [
        "llm.get_num_tokens(texto2)"
      ],
      "metadata": {
        "colab": {
          "base_uri": "https://localhost:8080/"
        },
        "id": "ZP1ORFwWpwON",
        "outputId": "ca2baf89-b1f2-49b3-a027-6d107fd86d34"
      },
      "execution_count": null,
      "outputs": [
        {
          "output_type": "execute_result",
          "data": {
            "text/plain": [
              "2869"
            ]
          },
          "metadata": {},
          "execution_count": 53
        }
      ]
    },
    {
      "cell_type": "code",
      "source": [
        "text_splitter=RecursiveCharacterTextSplitter(\n",
        "    chunk_size=1000,\n",
        "    chunk_overlap=20\n",
        ")\n",
        "chunks=text_splitter.create_documents([texto2])"
      ],
      "metadata": {
        "id": "ZHSQKNxPp7Q9"
      },
      "execution_count": null,
      "outputs": []
    },
    {
      "cell_type": "code",
      "source": [
        "len(chunks)"
      ],
      "metadata": {
        "colab": {
          "base_uri": "https://localhost:8080/"
        },
        "id": "pPOmPUBtqVmq",
        "outputId": "c53dfc0f-aee7-4c78-8afe-1fa383e0d912"
      },
      "execution_count": null,
      "outputs": [
        {
          "output_type": "execute_result",
          "data": {
            "text/plain": [
              "7"
            ]
          },
          "metadata": {},
          "execution_count": 77
        }
      ]
    },
    {
      "cell_type": "code",
      "source": [
        "chain2=load_summarize_chain(\n",
        "    llm,\n",
        "    chain_type=\"map_reduce\",\n",
        "    verbose=False\n",
        ")\n",
        "resumo3=chain2.run(chunks)"
      ],
      "metadata": {
        "id": "zp56wKd6sBJ8"
      },
      "execution_count": null,
      "outputs": []
    },
    {
      "cell_type": "code",
      "source": [
        "resumo3"
      ],
      "metadata": {
        "colab": {
          "base_uri": "https://localhost:8080/",
          "height": 122
        },
        "id": "-wuJD3-DsYHn",
        "outputId": "4aa00bb0-dd4d-48d3-fc10-a8ed0ff80a06"
      },
      "execution_count": null,
      "outputs": [
        {
          "output_type": "execute_result",
          "data": {
            "text/plain": [
              "'This text discusses the efficiency of B-Tree data structures, specifically Árvore B and Árvore B+ trees, and AVL trees. These self-balancing search trees maintain sorted data, allowing for quick search, insertion, and deletion operations in logarithmic time. They are ideal for databases and file systems due to their reduced disk access and lower height compared to other balanced trees, making them efficient in I/O performance.'"
            ],
            "application/vnd.google.colaboratory.intrinsic+json": {
              "type": "string"
            }
          },
          "metadata": {},
          "execution_count": 79
        }
      ]
    }
  ]
}